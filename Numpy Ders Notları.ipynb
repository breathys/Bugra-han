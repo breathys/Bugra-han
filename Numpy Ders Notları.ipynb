{
  "cells": [
    {
      "cell_type": "markdown",
      "metadata": {
        "id": "view-in-github",
        "colab_type": "text"
      },
      "source": [
        "<a href=\"https://colab.research.google.com/github/breathys/Bugra-han/blob/master/Numpy%20Ders%20Notlar%C4%B1.ipynb\" target=\"_parent\"><img src=\"https://colab.research.google.com/assets/colab-badge.svg\" alt=\"Open In Colab\"/></a>"
      ]
    },
    {
      "cell_type": "markdown",
      "metadata": {
        "id": "6RvZrI7fmNmL"
      },
      "source": [
        "# Numpy"
      ]
    },
    {
      "cell_type": "code",
      "execution_count": 1,
      "metadata": {
        "id": "owBuieY2mNmL"
      },
      "outputs": [],
      "source": [
        "import numpy as np"
      ]
    },
    {
      "cell_type": "markdown",
      "metadata": {
        "id": "Ng8B4eE-mNmM"
      },
      "source": [
        "## Data listesinden Numpy Array Oluşturmak"
      ]
    },
    {
      "cell_type": "code",
      "execution_count": null,
      "metadata": {
        "id": "EiIz-9VzmNmM"
      },
      "outputs": [],
      "source": [
        "data_list=[1,2,3]"
      ]
    },
    {
      "cell_type": "code",
      "execution_count": null,
      "metadata": {
        "id": "4wo0xh_7mNmM"
      },
      "outputs": [],
      "source": [
        "arr = np.array(data_list)"
      ]
    },
    {
      "cell_type": "code",
      "execution_count": null,
      "metadata": {
        "id": "Gn8kTEJSmNmM",
        "outputId": "bdeb1e52-7588-4290-e828-72dcb06c9eac"
      },
      "outputs": [
        {
          "data": {
            "text/plain": [
              "array([1, 2, 3])"
            ]
          },
          "execution_count": 4,
          "metadata": {},
          "output_type": "execute_result"
        }
      ],
      "source": [
        " arr"
      ]
    },
    {
      "cell_type": "code",
      "execution_count": null,
      "metadata": {
        "id": "M9GaIrZWmNmN"
      },
      "outputs": [],
      "source": [
        "data_list2 = [[10,20,30],[40,50,60],[70,80,90]]"
      ]
    },
    {
      "cell_type": "code",
      "execution_count": null,
      "metadata": {
        "id": "rCNvrsKamNmN"
      },
      "outputs": [],
      "source": [
        "arr2 = np.array(data_list2)"
      ]
    },
    {
      "cell_type": "code",
      "execution_count": null,
      "metadata": {
        "id": "AWC1lq3gmNmN",
        "outputId": "817b2679-87aa-4924-d64f-0f9e502bf575"
      },
      "outputs": [
        {
          "data": {
            "text/plain": [
              "array([[10, 20, 30],\n",
              "       [40, 50, 60],\n",
              "       [70, 80, 90]])"
            ]
          },
          "execution_count": 7,
          "metadata": {},
          "output_type": "execute_result"
        }
      ],
      "source": [
        "arr2"
      ]
    },
    {
      "cell_type": "markdown",
      "metadata": {
        "id": "lfVcwwDFmNmN"
      },
      "source": [
        "## np.array()"
      ]
    },
    {
      "cell_type": "code",
      "execution_count": null,
      "metadata": {
        "id": "sgJ2S2k2mNmO"
      },
      "outputs": [],
      "source": [
        "# Bir numpy metodunun nasıl çalıştığıyla ilgili bilgi almak için Shift+Tab tuşlarını kullanabiliriz!"
      ]
    },
    {
      "cell_type": "code",
      "execution_count": null,
      "metadata": {
        "id": "b5A2lWOxmNmO"
      },
      "outputs": [],
      "source": [
        "arr3 = np.array([1,2,3,4,5]) # önceden oluşturmak zorunda değiliz!"
      ]
    },
    {
      "cell_type": "code",
      "execution_count": null,
      "metadata": {
        "id": "FpnLqNAjmNmO",
        "outputId": "ed7f239a-3f7f-4e18-87f2-06156145c811"
      },
      "outputs": [
        {
          "data": {
            "text/plain": [
              "array([1, 2, 3, 4, 5])"
            ]
          },
          "execution_count": 10,
          "metadata": {},
          "output_type": "execute_result"
        }
      ],
      "source": [
        "arr3"
      ]
    },
    {
      "cell_type": "code",
      "execution_count": null,
      "metadata": {
        "id": "AKnLRAlImNmO",
        "outputId": "aabdc41f-c6cd-4c52-92d4-a69b3cb672f5"
      },
      "outputs": [
        {
          "data": {
            "text/plain": [
              "1"
            ]
          },
          "execution_count": 11,
          "metadata": {},
          "output_type": "execute_result"
        }
      ],
      "source": [
        "arr3[0]"
      ]
    },
    {
      "cell_type": "code",
      "execution_count": null,
      "metadata": {
        "id": "yExBefxYmNmO",
        "outputId": "fb1fd113-ea5c-488f-9364-df0590174659"
      },
      "outputs": [
        {
          "data": {
            "text/plain": [
              "array([[10, 20, 30],\n",
              "       [40, 50, 60],\n",
              "       [70, 80, 90]])"
            ]
          },
          "execution_count": 12,
          "metadata": {},
          "output_type": "execute_result"
        }
      ],
      "source": [
        "arr2"
      ]
    },
    {
      "cell_type": "code",
      "execution_count": null,
      "metadata": {
        "id": "5pOt06V5mNmO",
        "outputId": "ef90a78f-8f3a-4cd0-bf65-b54dbfc59e4c"
      },
      "outputs": [
        {
          "data": {
            "text/plain": [
              "90"
            ]
          },
          "execution_count": 13,
          "metadata": {},
          "output_type": "execute_result"
        }
      ],
      "source": [
        "arr2[2,2] # 2. sütun 2. sıra (0'dan başlıyor...)"
      ]
    },
    {
      "cell_type": "code",
      "execution_count": null,
      "metadata": {
        "id": "MDPep6ONmNmO",
        "outputId": "e499716b-6442-4940-a7d4-1f7a0a224913"
      },
      "outputs": [
        {
          "data": {
            "text/plain": [
              "20"
            ]
          },
          "execution_count": 14,
          "metadata": {},
          "output_type": "execute_result"
        }
      ],
      "source": [
        "arr2[0,1]"
      ]
    },
    {
      "cell_type": "code",
      "execution_count": null,
      "metadata": {
        "id": "fb-R03g7mNmO",
        "outputId": "878501dd-436d-44fb-8b43-e3390df1d68a"
      },
      "outputs": [
        {
          "data": {
            "text/plain": [
              "array([1, 2, 3])"
            ]
          },
          "execution_count": 15,
          "metadata": {},
          "output_type": "execute_result"
        }
      ],
      "source": [
        "np.array([1,2,3])"
      ]
    },
    {
      "cell_type": "code",
      "execution_count": null,
      "metadata": {
        "id": "IM7o7vJEmNmO",
        "outputId": "04bf82ed-31e3-4254-a762-0fbfd86b0434"
      },
      "outputs": [
        {
          "ename": "TypeError",
          "evalue": "data type not understood",
          "output_type": "error",
          "traceback": [
            "\u001b[1;31m---------------------------------------------------------------------------\u001b[0m",
            "\u001b[1;31mTypeError\u001b[0m                                 Traceback (most recent call last)",
            "\u001b[1;32m<ipython-input-16-163949a39f0b>\u001b[0m in \u001b[0;36m<module>\u001b[1;34m\u001b[0m\n\u001b[1;32m----> 1\u001b[1;33m \u001b[0mnp\u001b[0m\u001b[1;33m.\u001b[0m\u001b[0marray\u001b[0m\u001b[1;33m(\u001b[0m\u001b[1;33m[\u001b[0m\u001b[1;36m1\u001b[0m\u001b[1;33m,\u001b[0m\u001b[1;36m2\u001b[0m\u001b[1;33m,\u001b[0m\u001b[1;36m3\u001b[0m\u001b[1;33m]\u001b[0m\u001b[1;33m,\u001b[0m\u001b[1;33m[\u001b[0m\u001b[1;36m4\u001b[0m\u001b[1;33m,\u001b[0m\u001b[1;36m5\u001b[0m\u001b[1;33m,\u001b[0m\u001b[1;36m6\u001b[0m\u001b[1;33m]\u001b[0m\u001b[1;33m)\u001b[0m \u001b[1;31m# hata verir!\u001b[0m\u001b[1;33m\u001b[0m\u001b[1;33m\u001b[0m\u001b[0m\n\u001b[0m",
            "\u001b[1;31mTypeError\u001b[0m: data type not understood"
          ]
        }
      ],
      "source": [
        "np.array([1,2,3],[4,5,6]) # hata verir!"
      ]
    },
    {
      "cell_type": "code",
      "execution_count": null,
      "metadata": {
        "id": "0GRuksz3mNmO",
        "outputId": "c1c63710-bdb2-43ea-a67e-d739c6182337"
      },
      "outputs": [
        {
          "data": {
            "text/plain": [
              "array([[1, 2, 3],\n",
              "       [4, 5, 6]])"
            ]
          },
          "execution_count": 17,
          "metadata": {},
          "output_type": "execute_result"
        }
      ],
      "source": [
        "np.array([[1,2,3],[4,5,6]]) # iki boyutlu olduğunu belirtmek için iç içe köşeli parantez kullanırız."
      ]
    },
    {
      "cell_type": "markdown",
      "metadata": {
        "id": "YTAMw3QvmNmO"
      },
      "source": [
        "# Numpy Array hakkında bilgi edinmek"
      ]
    },
    {
      "cell_type": "code",
      "execution_count": null,
      "metadata": {
        "id": "iUKsL73kmNmO"
      },
      "outputs": [],
      "source": [
        "a = np.array([2,33,56,78,90,101,125,257,313])"
      ]
    },
    {
      "cell_type": "markdown",
      "metadata": {
        "id": "4mnYTNqZmNmP"
      },
      "source": [
        "## np.array().ndim"
      ]
    },
    {
      "cell_type": "code",
      "execution_count": null,
      "metadata": {
        "id": "m9FKHAfKmNmP",
        "outputId": "bdda4971-e3a1-40a9-a8b1-3869217af04b"
      },
      "outputs": [
        {
          "data": {
            "text/plain": [
              "1"
            ]
          },
          "execution_count": 19,
          "metadata": {},
          "output_type": "execute_result"
        }
      ],
      "source": [
        "a.ndim # array'in boyut sayısını döndürür."
      ]
    },
    {
      "cell_type": "code",
      "execution_count": null,
      "metadata": {
        "id": "Cs2pwDUimNmP",
        "outputId": "96b2629b-132a-44a0-ad52-771e571fc281"
      },
      "outputs": [
        {
          "data": {
            "text/plain": [
              "1"
            ]
          },
          "execution_count": 20,
          "metadata": {},
          "output_type": "execute_result"
        }
      ],
      "source": [
        "np.array([1,2,3]).ndim"
      ]
    },
    {
      "cell_type": "code",
      "execution_count": null,
      "metadata": {
        "id": "mk5jQbe8mNmP",
        "outputId": "90b1aeec-d335-48f7-e486-8091f9f000a3"
      },
      "outputs": [
        {
          "data": {
            "text/plain": [
              "2"
            ]
          },
          "execution_count": 21,
          "metadata": {},
          "output_type": "execute_result"
        }
      ],
      "source": [
        "np.array([[1,2]]).ndim # 2 boyutlu olduğu için 2 değerini döndürür."
      ]
    },
    {
      "cell_type": "markdown",
      "metadata": {
        "id": "Ut7nRtAdmNmP"
      },
      "source": [
        "## np.array().shape"
      ]
    },
    {
      "cell_type": "code",
      "execution_count": null,
      "metadata": {
        "id": "_E-x9zMEmNmP",
        "outputId": "9a548b2c-831b-4971-c5dc-0bcfdb2a282a"
      },
      "outputs": [
        {
          "data": {
            "text/plain": [
              "(4,)"
            ]
          },
          "execution_count": 22,
          "metadata": {},
          "output_type": "execute_result"
        }
      ],
      "source": [
        "np.array([11,22,33,44]).shape # array'in satır sütun bilgilerini döndürür."
      ]
    },
    {
      "cell_type": "code",
      "execution_count": null,
      "metadata": {
        "id": "u0fQHYSrmNmP",
        "outputId": "7d1fc1c8-6200-4fe4-b570-03420e60a8cc"
      },
      "outputs": [
        {
          "data": {
            "text/plain": [
              "(2, 2)"
            ]
          },
          "execution_count": 23,
          "metadata": {},
          "output_type": "execute_result"
        }
      ],
      "source": [
        "np.array([[0,1],[2,3]]).shape # 2x2'lik bir matris olduğu için (2,2) şeklinde tuple döndürür."
      ]
    },
    {
      "cell_type": "markdown",
      "metadata": {
        "id": "RX_KUIJVmNmP"
      },
      "source": [
        "## np.array().size"
      ]
    },
    {
      "cell_type": "code",
      "execution_count": null,
      "metadata": {
        "id": "3s5p9JVMmNmP",
        "outputId": "4b60b056-f0f0-4d96-94b6-29b4c5aa8b08"
      },
      "outputs": [
        {
          "data": {
            "text/plain": [
              "5"
            ]
          },
          "execution_count": 24,
          "metadata": {},
          "output_type": "execute_result"
        }
      ],
      "source": [
        "np.array([2,3,4,5,6]).size # array'in eleman sayısını döndürür."
      ]
    },
    {
      "cell_type": "code",
      "execution_count": null,
      "metadata": {
        "id": "5HnbvJEUmNmP",
        "outputId": "2dec4adc-74a7-4623-dc6e-da907d5d4756"
      },
      "outputs": [
        {
          "data": {
            "text/plain": [
              "4"
            ]
          },
          "execution_count": 25,
          "metadata": {},
          "output_type": "execute_result"
        }
      ],
      "source": [
        "np.array([[0,1],[2,3]]).size"
      ]
    },
    {
      "cell_type": "markdown",
      "metadata": {
        "id": "_m6jIkXTmNmP"
      },
      "source": [
        "## np.array().dtype"
      ]
    },
    {
      "cell_type": "code",
      "execution_count": null,
      "metadata": {
        "id": "kJnImbV4mNmP",
        "outputId": "a70e0cd9-17e0-40f9-f9be-e99c9d57c10d"
      },
      "outputs": [
        {
          "data": {
            "text/plain": [
              "dtype('int32')"
            ]
          },
          "execution_count": 26,
          "metadata": {},
          "output_type": "execute_result"
        }
      ],
      "source": [
        "np.array([1,2,3]).dtype # array içerisindeki elemanların veri türünü döndürür."
      ]
    },
    {
      "cell_type": "code",
      "execution_count": null,
      "metadata": {
        "id": "P9hyFXDlmNmP",
        "outputId": "fb8b616b-155d-4de2-8857-b5c669d6b23b"
      },
      "outputs": [
        {
          "data": {
            "text/plain": [
              "dtype('float64')"
            ]
          },
          "execution_count": 27,
          "metadata": {},
          "output_type": "execute_result"
        }
      ],
      "source": [
        "np.array([1.0, 2.0, 3.0]).dtype"
      ]
    },
    {
      "cell_type": "markdown",
      "metadata": {
        "id": "L12mZ6wxmNmP"
      },
      "source": [
        "# En çok kullanılan Numpy Metodları"
      ]
    },
    {
      "cell_type": "markdown",
      "metadata": {
        "id": "MvRHs6OImNmP"
      },
      "source": [
        "## np.arange()"
      ]
    },
    {
      "cell_type": "code",
      "execution_count": null,
      "metadata": {
        "id": "VwPy-l2ymNmP",
        "outputId": "1b4ce27a-7d8d-45b1-b830-a3435b9a62e9"
      },
      "outputs": [
        {
          "data": {
            "text/plain": [
              "array([ 1,  2,  3,  4,  5,  6,  7,  8,  9, 10, 11, 12, 13, 14, 15, 16, 17,\n",
              "       18, 19])"
            ]
          },
          "execution_count": 28,
          "metadata": {},
          "output_type": "execute_result"
        }
      ],
      "source": [
        "np.arange(1,20) # tıpkı python'daki range() fonksiyonu gibi..."
      ]
    },
    {
      "cell_type": "code",
      "execution_count": null,
      "metadata": {
        "id": "d-Bv4KzlmNmP",
        "outputId": "057e9fe2-c940-4b8b-b5c6-7696a0b8d2e6"
      },
      "outputs": [
        {
          "data": {
            "text/plain": [
              "array([ 0,  5, 10, 15, 20, 25, 30, 35, 40, 45])"
            ]
          },
          "execution_count": 29,
          "metadata": {},
          "output_type": "execute_result"
        }
      ],
      "source": [
        "np.arange(0,50,5) # 5'er 5'er atlayarak..."
      ]
    },
    {
      "cell_type": "markdown",
      "metadata": {
        "id": "wBSZMsSAmNmZ"
      },
      "source": [
        "## np.zeros()"
      ]
    },
    {
      "cell_type": "code",
      "execution_count": null,
      "metadata": {
        "id": "h54PiKf2mNmZ",
        "outputId": "0a1b28fb-9e0d-42f1-f476-70db1d79cd38"
      },
      "outputs": [
        {
          "data": {
            "text/plain": [
              "array([0., 0., 0., 0., 0., 0., 0., 0., 0., 0.])"
            ]
          },
          "execution_count": 30,
          "metadata": {},
          "output_type": "execute_result"
        }
      ],
      "source": [
        "np.zeros(10) # 10 tane sıfır'ın olduğu bir array oluşturuyor..."
      ]
    },
    {
      "cell_type": "markdown",
      "metadata": {
        "id": "YkGpun4LmNmZ"
      },
      "source": [
        "## np.ones()"
      ]
    },
    {
      "cell_type": "code",
      "execution_count": null,
      "metadata": {
        "id": "RzWtZ2vqmNmZ",
        "outputId": "565df9c4-b836-42d5-f39a-f89991015ead"
      },
      "outputs": [
        {
          "data": {
            "text/plain": [
              "array([1., 1., 1., 1., 1., 1., 1., 1., 1., 1.])"
            ]
          },
          "execution_count": 31,
          "metadata": {},
          "output_type": "execute_result"
        }
      ],
      "source": [
        "np.ones(10) # 10 tane 1"
      ]
    },
    {
      "cell_type": "code",
      "execution_count": null,
      "metadata": {
        "id": "dHNtNUMImNmZ",
        "outputId": "482f92b8-2108-4123-9912-061921992268"
      },
      "outputs": [
        {
          "data": {
            "text/plain": [
              "array([[0., 0.],\n",
              "       [0., 0.]])"
            ]
          },
          "execution_count": 32,
          "metadata": {},
          "output_type": "execute_result"
        }
      ],
      "source": [
        "np.zeros((2,2)) # 2x2 lik bir matriste tüm elemanlar SIFIR."
      ]
    },
    {
      "cell_type": "code",
      "execution_count": null,
      "metadata": {
        "id": "HK8OecPbmNmZ",
        "outputId": "e16fbdb1-c7fe-43ca-c5b3-ae19985a9633"
      },
      "outputs": [
        {
          "data": {
            "text/plain": [
              "array([[1., 1., 1., 1., 1.],\n",
              "       [1., 1., 1., 1., 1.],\n",
              "       [1., 1., 1., 1., 1.]])"
            ]
          },
          "execution_count": 33,
          "metadata": {},
          "output_type": "execute_result"
        }
      ],
      "source": [
        "np.ones((3,5))"
      ]
    },
    {
      "cell_type": "markdown",
      "metadata": {
        "id": "LzaoFckdmNmZ"
      },
      "source": [
        "## np.full()"
      ]
    },
    {
      "cell_type": "code",
      "execution_count": null,
      "metadata": {
        "id": "3XPkyTqimNmZ",
        "outputId": "c6223626-3ae1-4fc7-bd02-36f2a60c751d"
      },
      "outputs": [
        {
          "data": {
            "text/plain": [
              "array([[7, 7, 7, 7, 7],\n",
              "       [7, 7, 7, 7, 7],\n",
              "       [7, 7, 7, 7, 7]])"
            ]
          },
          "execution_count": 34,
          "metadata": {},
          "output_type": "execute_result"
        }
      ],
      "source": [
        "np.full((3,5), 7)  # bu metodla 7 değerlerinden oluşan 3x5'lik bir matrix oluşturabiliriz."
      ]
    },
    {
      "cell_type": "markdown",
      "metadata": {
        "id": "E-_-eAxfmNma"
      },
      "source": [
        "## np.linspace()"
      ]
    },
    {
      "cell_type": "code",
      "execution_count": null,
      "metadata": {
        "id": "lzVhI3KRmNma",
        "outputId": "f23dafb9-7933-4922-ff6b-4db39a4022f2"
      },
      "outputs": [
        {
          "data": {
            "text/plain": [
              "array([  0.,  25.,  50.,  75., 100.])"
            ]
          },
          "execution_count": 35,
          "metadata": {},
          "output_type": "execute_result"
        }
      ],
      "source": [
        "np.linspace(0,100,5) # 0 ile 100 arası değerleri 4 parçaya bölerek 5 elemanlı yeni bir array yapıyor."
      ]
    },
    {
      "cell_type": "markdown",
      "metadata": {
        "id": "W1e7vXhKmNma"
      },
      "source": [
        "## np.eye()"
      ]
    },
    {
      "cell_type": "code",
      "execution_count": null,
      "metadata": {
        "id": "5_PoD85zmNma",
        "outputId": "d7b6d138-ffe6-4f52-e212-2c413a91b4dd"
      },
      "outputs": [
        {
          "data": {
            "text/plain": [
              "array([[1., 0., 0., 0., 0., 0.],\n",
              "       [0., 1., 0., 0., 0., 0.],\n",
              "       [0., 0., 1., 0., 0., 0.],\n",
              "       [0., 0., 0., 1., 0., 0.],\n",
              "       [0., 0., 0., 0., 1., 0.],\n",
              "       [0., 0., 0., 0., 0., 1.]])"
            ]
          },
          "execution_count": 36,
          "metadata": {},
          "output_type": "execute_result"
        }
      ],
      "source": [
        "np.eye(6) # 6x6'lık birim matris oluşturuyor."
      ]
    },
    {
      "cell_type": "markdown",
      "metadata": {
        "id": "VKXiTh-JmNma"
      },
      "source": [
        "## np.random.normal()"
      ]
    },
    {
      "cell_type": "code",
      "execution_count": null,
      "metadata": {
        "id": "K7riOKzAmNma",
        "outputId": "d5088a7f-5cdc-4b9c-fb0b-4383905ce199"
      },
      "outputs": [
        {
          "data": {
            "text/plain": [
              "array([[-1.13597297,  0.4367285 ,  0.18021105, -0.77927623],\n",
              "       [ 0.63474415, -0.95654143,  0.82358934,  1.11465894],\n",
              "       [-1.56422348,  1.08303415, -0.05538821, -0.13687387]])"
            ]
          },
          "execution_count": 37,
          "metadata": {},
          "output_type": "execute_result"
        }
      ],
      "source": [
        "np.random.normal(0,1,(3,4)) # ortalaması 0, varyansı 1 olan 3x4'lük bir matris döndürür."
      ]
    },
    {
      "cell_type": "markdown",
      "metadata": {
        "id": "GmrLpHl0mNma"
      },
      "source": [
        "## np.random.randint()"
      ]
    },
    {
      "cell_type": "code",
      "execution_count": null,
      "metadata": {
        "id": "ONcQEry6mNma",
        "outputId": "9c779d8c-6846-42f5-93c4-44e133efdbb1"
      },
      "outputs": [
        {
          "data": {
            "text/plain": [
              "9"
            ]
          },
          "execution_count": 38,
          "metadata": {},
          "output_type": "execute_result"
        }
      ],
      "source": [
        "np.random.randint(0,10) # 0 ile 10 arasında (10 dahil değil) rastgele bir sayı tutar."
      ]
    },
    {
      "cell_type": "code",
      "execution_count": null,
      "metadata": {
        "id": "URYSHs74mNma",
        "outputId": "8cc6943d-07ce-4969-982b-cbcf40d5d387"
      },
      "outputs": [
        {
          "data": {
            "text/plain": [
              "4"
            ]
          },
          "execution_count": 39,
          "metadata": {},
          "output_type": "execute_result"
        }
      ],
      "source": [
        "np.random.randint(10) # üsttekinin aynısıdır, sadece sıfır yazılmamış versiyonudur."
      ]
    },
    {
      "cell_type": "code",
      "execution_count": null,
      "metadata": {
        "id": "S4WXu6oCmNma",
        "outputId": "53f73c3f-44b5-412f-e4a7-fe049ae2da3f"
      },
      "outputs": [
        {
          "data": {
            "text/plain": [
              "array([6, 6, 8])"
            ]
          },
          "execution_count": 40,
          "metadata": {},
          "output_type": "execute_result"
        }
      ],
      "source": [
        "np.random.randint(2,12,3) # 2 ile 12 arası 3 adet sayı tutar ve bir array döndürür."
      ]
    },
    {
      "cell_type": "code",
      "execution_count": null,
      "metadata": {
        "id": "0gZ8HmNZmNma",
        "outputId": "583c19e0-3649-4c3f-a2ee-20b5fc8eb652"
      },
      "outputs": [
        {
          "data": {
            "text/plain": [
              "array([[3, 8, 3, 3],\n",
              "       [2, 5, 1, 7],\n",
              "       [4, 7, 8, 6]])"
            ]
          },
          "execution_count": 41,
          "metadata": {},
          "output_type": "execute_result"
        }
      ],
      "source": [
        "np.random.randint(1,9,(3,4)) # 1 ile 9 arasında elemanları olan 3x4'lük bir matris döndürür."
      ]
    },
    {
      "cell_type": "code",
      "execution_count": null,
      "metadata": {
        "id": "MxvkgumSmNma",
        "outputId": "7791d75f-fc0c-4453-9600-ee2bbca1dba0"
      },
      "outputs": [
        {
          "data": {
            "text/plain": [
              "array([0, 8, 3, 9, 4, 0, 5, 4, 8, 1])"
            ]
          },
          "execution_count": 42,
          "metadata": {},
          "output_type": "execute_result"
        }
      ],
      "source": [
        "# farklı yazım şekilleriyle de karşılaşabiliriz.\n",
        "np.random.randint(10, size=10) # 0 ile 10 arasında (10 dahil değil) 10 tane elemanı olan bir array döndürür."
      ]
    },
    {
      "cell_type": "markdown",
      "metadata": {
        "id": "bCxSxp4umNma"
      },
      "source": [
        "## np.random.rand()"
      ]
    },
    {
      "cell_type": "code",
      "execution_count": null,
      "metadata": {
        "id": "1KVZYjVymNma",
        "outputId": "d4e27884-07b5-4579-9ea9-007099be930c"
      },
      "outputs": [
        {
          "data": {
            "text/plain": [
              "array([0.79668866, 0.29118426, 0.11329979, 0.82159052, 0.88837753])"
            ]
          },
          "execution_count": 43,
          "metadata": {},
          "output_type": "execute_result"
        }
      ],
      "source": [
        "np.random.rand(5) # 0 ile 1 arası 5 adet değeri bir array içinde döndürür."
      ]
    },
    {
      "cell_type": "markdown",
      "metadata": {
        "id": "oM7FHn63mNma"
      },
      "source": [
        "## np.random.randn()"
      ]
    },
    {
      "cell_type": "code",
      "execution_count": null,
      "metadata": {
        "id": "b9y_45YVmNma",
        "outputId": "7cf68ead-41b5-43bc-9223-2fc151256f3e"
      },
      "outputs": [
        {
          "data": {
            "text/plain": [
              "array([-1.02174769,  1.10832858, -1.34347489, -0.40881784,  1.17525624])"
            ]
          },
          "execution_count": 44,
          "metadata": {},
          "output_type": "execute_result"
        }
      ],
      "source": [
        "np.random.randn(5) # Gaussian (Normal) Dağılım ile 0 etrafında değerler üretir array döndürür."
      ]
    },
    {
      "cell_type": "markdown",
      "metadata": {
        "id": "hNhUXgv3mNmb"
      },
      "source": [
        "## np.array().reshape()"
      ]
    },
    {
      "cell_type": "code",
      "execution_count": null,
      "metadata": {
        "id": "iuoEwWXXmNmb",
        "outputId": "dda5d0f8-5732-42f2-8896-0c9a32c5db8e"
      },
      "outputs": [
        {
          "data": {
            "text/plain": [
              "array([[1, 2, 3, 4],\n",
              "       [5, 6, 7, 8]])"
            ]
          },
          "execution_count": 45,
          "metadata": {},
          "output_type": "execute_result"
        }
      ],
      "source": [
        "np.array([1,2,3,4,5,6,7,8]).reshape(2,4) # 1x8'lik matrisi 2x4'lük matrise döndürür."
      ]
    },
    {
      "cell_type": "code",
      "execution_count": null,
      "metadata": {
        "id": "bM4m-G1VmNmb",
        "outputId": "8cf08467-ba70-4223-8f5b-69f9e7c7ad9b"
      },
      "outputs": [
        {
          "data": {
            "text/plain": [
              "array([[1, 2, 3, 4],\n",
              "       [5, 6, 7, 8]])"
            ]
          },
          "execution_count": 46,
          "metadata": {},
          "output_type": "execute_result"
        }
      ],
      "source": [
        "np.arange(1,9).reshape(2,4)"
      ]
    },
    {
      "cell_type": "code",
      "execution_count": null,
      "metadata": {
        "id": "OWcVbuiXmNmb",
        "outputId": "47cf1c09-feaa-4c80-e81d-ecdee9360658"
      },
      "outputs": [
        {
          "data": {
            "text/plain": [
              "array([[ 0,  1,  2,  3,  4],\n",
              "       [ 5,  6,  7,  8,  9],\n",
              "       [10, 11, 12, 13, 14],\n",
              "       [15, 16, 17, 18, 19],\n",
              "       [20, 21, 22, 23, 24]])"
            ]
          },
          "execution_count": 47,
          "metadata": {},
          "output_type": "execute_result"
        }
      ],
      "source": [
        "arr = np.arange(0,25) # önce 0'dan 25'e kadar (25 hariç) değerler üretti 1x25'lik bir matris oldu.\n",
        "arr.reshape(5,5) # sonra bu matrisin şeklini değiştirerek 5x5'lik bir matrise çevirdi.\n"
      ]
    },
    {
      "cell_type": "code",
      "execution_count": null,
      "metadata": {
        "id": "BQcXbtRLmNmb",
        "outputId": "3677ef67-98db-48ff-be29-cf31459fcef0"
      },
      "outputs": [
        {
          "ename": "ValueError",
          "evalue": "cannot reshape array of size 25 into shape (4,5)",
          "output_type": "error",
          "traceback": [
            "\u001b[1;31m---------------------------------------------------------------------------\u001b[0m",
            "\u001b[1;31mValueError\u001b[0m                                Traceback (most recent call last)",
            "\u001b[1;32m<ipython-input-48-07e17d9a55a2>\u001b[0m in \u001b[0;36m<module>\u001b[1;34m\u001b[0m\n\u001b[1;32m----> 1\u001b[1;33m \u001b[0marr\u001b[0m\u001b[1;33m.\u001b[0m\u001b[0mreshape\u001b[0m\u001b[1;33m(\u001b[0m\u001b[1;36m4\u001b[0m\u001b[1;33m,\u001b[0m\u001b[1;36m5\u001b[0m\u001b[1;33m)\u001b[0m \u001b[1;31m# bunu yapamayız, çünkü array'in matrise tam yerleşmesi gerekiyor!\u001b[0m\u001b[1;33m\u001b[0m\u001b[1;33m\u001b[0m\u001b[0m\n\u001b[0m",
            "\u001b[1;31mValueError\u001b[0m: cannot reshape array of size 25 into shape (4,5)"
          ]
        }
      ],
      "source": [
        "arr.reshape(4,5) # bunu yapamayız, çünkü array'in matrise tam yerleşmesi gerekiyor!"
      ]
    },
    {
      "cell_type": "markdown",
      "metadata": {
        "id": "jIEyT_P0mNmb"
      },
      "source": [
        "## np.array().max()"
      ]
    },
    {
      "cell_type": "code",
      "execution_count": null,
      "metadata": {
        "id": "7-Vn2mNrmNmb"
      },
      "outputs": [],
      "source": [
        "newArray = np.random.randint(1,100,10)"
      ]
    },
    {
      "cell_type": "code",
      "execution_count": null,
      "metadata": {
        "id": "-Cs7tiUWmNmb",
        "outputId": "1bc2a043-e752-4bc4-e4b7-7122f0fc2254"
      },
      "outputs": [
        {
          "data": {
            "text/plain": [
              "array([82, 68,  1, 16, 28, 49, 31, 73, 83, 71])"
            ]
          },
          "execution_count": 50,
          "metadata": {},
          "output_type": "execute_result"
        }
      ],
      "source": [
        "newArray"
      ]
    },
    {
      "cell_type": "code",
      "execution_count": null,
      "metadata": {
        "id": "1E1OHphbmNmb",
        "outputId": "ef1f1cc6-6f2f-4315-8018-0599ed81a2c1"
      },
      "outputs": [
        {
          "data": {
            "text/plain": [
              "83"
            ]
          },
          "execution_count": 51,
          "metadata": {},
          "output_type": "execute_result"
        }
      ],
      "source": [
        "newArray.max() # array içindeki en büyük elemanı döndürür."
      ]
    },
    {
      "cell_type": "markdown",
      "metadata": {
        "id": "HC9LAhtbmNmb"
      },
      "source": [
        "## np.array().min()"
      ]
    },
    {
      "cell_type": "code",
      "execution_count": null,
      "metadata": {
        "id": "MgWAbNYqmNmb",
        "outputId": "1c917c59-2ddd-4f26-9e11-ed7dd84ea4b3"
      },
      "outputs": [
        {
          "data": {
            "text/plain": [
              "9"
            ]
          },
          "execution_count": 52,
          "metadata": {},
          "output_type": "execute_result"
        }
      ],
      "source": [
        "np.array([27,33,55,13,9]).min() # dizi içerisindeki minimum değeri döndürür."
      ]
    },
    {
      "cell_type": "code",
      "execution_count": null,
      "metadata": {
        "id": "Y1N2FX6AmNmb",
        "outputId": "f20bd2c7-9db8-41fb-eab5-a980108567c7"
      },
      "outputs": [
        {
          "data": {
            "text/plain": [
              "1"
            ]
          },
          "execution_count": 53,
          "metadata": {},
          "output_type": "execute_result"
        }
      ],
      "source": [
        "newArray.min()"
      ]
    },
    {
      "cell_type": "markdown",
      "metadata": {
        "id": "CZXYg5limNmb"
      },
      "source": [
        "## np.array().sum()"
      ]
    },
    {
      "cell_type": "code",
      "execution_count": null,
      "metadata": {
        "id": "ob8vok6GmNmb",
        "outputId": "7e663130-0f9a-470b-bb71-c5065031e91d"
      },
      "outputs": [
        {
          "data": {
            "text/plain": [
              "502"
            ]
          },
          "execution_count": 54,
          "metadata": {},
          "output_type": "execute_result"
        }
      ],
      "source": [
        "newArray.sum() # array içindeki elemanların sayısal toplamını döndürür."
      ]
    },
    {
      "cell_type": "markdown",
      "metadata": {
        "id": "iNtVTt8NmNmb"
      },
      "source": [
        "## np.sort()"
      ]
    },
    {
      "cell_type": "code",
      "execution_count": null,
      "metadata": {
        "id": "xtlayjr1mNmb",
        "outputId": "bb34160c-5200-4ed0-fff5-162c9cd963ab"
      },
      "outputs": [
        {
          "data": {
            "text/plain": [
              "array([22, 55, 44, 33])"
            ]
          },
          "execution_count": 55,
          "metadata": {},
          "output_type": "execute_result"
        }
      ],
      "source": [
        "d = np.array([22,55,44,33])\n",
        "d"
      ]
    },
    {
      "cell_type": "code",
      "execution_count": null,
      "metadata": {
        "id": "GG2Be_3vmNmb",
        "outputId": "67dd4d88-8ac0-4148-bf58-581cfd884622"
      },
      "outputs": [
        {
          "data": {
            "text/plain": [
              "array([22, 33, 44, 55])"
            ]
          },
          "execution_count": 56,
          "metadata": {},
          "output_type": "execute_result"
        }
      ],
      "source": [
        "np.sort(d)\n",
        "# sıralama işlemi yapar.\n",
        "# fakat bunu uyguladığımızda d array'i değişmez!\n",
        "# d array'ini değiştirmeden array değerlerini sıralayabiliriz."
      ]
    },
    {
      "cell_type": "markdown",
      "metadata": {
        "id": "-WXVlNl2mNmc"
      },
      "source": [
        "## np.array().sort()"
      ]
    },
    {
      "cell_type": "code",
      "execution_count": null,
      "metadata": {
        "id": "STbafykkmNmc",
        "outputId": "42cd67c0-aa52-48fa-e8a3-fa3981e760f6"
      },
      "outputs": [
        {
          "data": {
            "text/plain": [
              "array([22, 33, 44, 55])"
            ]
          },
          "execution_count": 57,
          "metadata": {},
          "output_type": "execute_result"
        }
      ],
      "source": [
        "d.sort()\n",
        "d # burada d array'i artık değişmiş olur."
      ]
    },
    {
      "cell_type": "markdown",
      "metadata": {
        "id": "fcZkRx7bmNmc"
      },
      "source": [
        "## np.argsort()"
      ]
    },
    {
      "cell_type": "code",
      "execution_count": null,
      "metadata": {
        "id": "laNfr5ngmNmc",
        "outputId": "2491895c-fbe9-4e7d-f1c9-16139a7aabcf"
      },
      "outputs": [
        {
          "data": {
            "text/plain": [
              "array([22, 55, 44, 33])"
            ]
          },
          "execution_count": 58,
          "metadata": {},
          "output_type": "execute_result"
        }
      ],
      "source": [
        "d = np.array([22,55,44,33]) # aynı d array'imizi yeniden oluşturalım.\n",
        "d"
      ]
    },
    {
      "cell_type": "code",
      "execution_count": null,
      "metadata": {
        "id": "vpSxo-7wmNmc",
        "outputId": "4b5141db-c30c-4827-c948-d4b823152c50"
      },
      "outputs": [
        {
          "data": {
            "text/plain": [
              "array([22, 33, 44, 55])"
            ]
          },
          "execution_count": 59,
          "metadata": {},
          "output_type": "execute_result"
        }
      ],
      "source": [
        "np.sort(d)"
      ]
    },
    {
      "cell_type": "code",
      "execution_count": null,
      "metadata": {
        "id": "xKRJHPcSmNmc",
        "outputId": "1a44d2a9-38bb-4bed-964c-81430173da57"
      },
      "outputs": [
        {
          "data": {
            "text/plain": [
              "array([0, 3, 2, 1], dtype=int64)"
            ]
          },
          "execution_count": 60,
          "metadata": {},
          "output_type": "execute_result"
        }
      ],
      "source": [
        "e = np.argsort(d) # bu işlemle eski d array'inin sıralandıktan sonraki indeks değişimini inceleyebiliriz.\n",
        "e"
      ]
    },
    {
      "cell_type": "code",
      "execution_count": null,
      "metadata": {
        "id": "uEnCt4iKmNmc"
      },
      "outputs": [],
      "source": [
        "# np.argsort işlemi sonrası\n",
        "# sıralanmamış d ile sıralı d array'ini incelersek;\n",
        "\n",
        "# 22 elemanı (eskide 0. indeks) sıralıda 0. indekse gitmiştir. (Yani aslında indeks değeri değişmemiş)\n",
        "# 55 elemanı (eskide 1. indeks) sıralıda 3. indekse gitmiştir.\n",
        "# 44 elemanı (eskide 2. indeks) sıralıda 2. indekse gitmiştir.\n",
        "# 33 elemanı (eskide 3. indeks) sıralıda 1. indekse gitmiştir.\n"
      ]
    },
    {
      "cell_type": "markdown",
      "metadata": {
        "id": "-99-DV4rmNmc"
      },
      "source": [
        "## np.array().mean()"
      ]
    },
    {
      "cell_type": "code",
      "execution_count": null,
      "metadata": {
        "id": "Z-JwoZ55mNmc",
        "outputId": "4c793b97-4456-40ef-e801-61483b339026"
      },
      "outputs": [
        {
          "data": {
            "text/plain": [
              "50.2"
            ]
          },
          "execution_count": 62,
          "metadata": {},
          "output_type": "execute_result"
        }
      ],
      "source": [
        "newArray.mean() # array içindeki değerlerin ortalamasını döndürür."
      ]
    },
    {
      "cell_type": "markdown",
      "metadata": {
        "id": "ME9DPaFmmNmc"
      },
      "source": [
        "## np.array().std()"
      ]
    },
    {
      "cell_type": "code",
      "execution_count": null,
      "metadata": {
        "id": "nz7WiahqmNmc",
        "outputId": "a3a85d53-1ac0-45c1-e1b3-1e641b4b029a"
      },
      "outputs": [
        {
          "data": {
            "text/plain": [
              "27.945661559533708"
            ]
          },
          "execution_count": 63,
          "metadata": {},
          "output_type": "execute_result"
        }
      ],
      "source": [
        "newArray.std() # array içindeki elemanlara göre standart sapma hesabının sonucunu döndürür."
      ]
    },
    {
      "cell_type": "markdown",
      "metadata": {
        "id": "fc0SqMq_mNmc"
      },
      "source": [
        "## np.array().var()"
      ]
    },
    {
      "cell_type": "code",
      "execution_count": null,
      "metadata": {
        "id": "reWhx_2JmNmc",
        "outputId": "0e848182-81e3-4538-a919-4f8b1c804fb1"
      },
      "outputs": [
        {
          "data": {
            "text/plain": [
              "780.96"
            ]
          },
          "execution_count": 64,
          "metadata": {},
          "output_type": "execute_result"
        }
      ],
      "source": [
        "newArray.var() # varyans hesabı"
      ]
    },
    {
      "cell_type": "markdown",
      "metadata": {
        "id": "V-Fbpqx_mNmc"
      },
      "source": [
        "## np.median()"
      ]
    },
    {
      "cell_type": "code",
      "execution_count": null,
      "metadata": {
        "id": "gC3-iEpbmNmc",
        "outputId": "e8f121a0-3c44-46df-ef04-26e03598d98e"
      },
      "outputs": [
        {
          "data": {
            "text/plain": [
              "58.5"
            ]
          },
          "execution_count": 65,
          "metadata": {},
          "output_type": "execute_result"
        }
      ],
      "source": [
        "np.median(newArray) # median değeri"
      ]
    },
    {
      "cell_type": "markdown",
      "metadata": {
        "id": "TuMbiGWjmNmc"
      },
      "source": [
        "## np.array().argmax()"
      ]
    },
    {
      "cell_type": "code",
      "execution_count": null,
      "metadata": {
        "id": "jateDT4RmNmc",
        "outputId": "c318a752-935d-4c52-9d91-625cfe12c5cd"
      },
      "outputs": [
        {
          "data": {
            "text/plain": [
              "8"
            ]
          },
          "execution_count": 66,
          "metadata": {},
          "output_type": "execute_result"
        }
      ],
      "source": [
        "newArray.argmax() # array içindeki en büyük sayının array içindeki indeksini döndürür."
      ]
    },
    {
      "cell_type": "markdown",
      "metadata": {
        "id": "pJvcrvt1mNmc"
      },
      "source": [
        "## np.array().argmax()"
      ]
    },
    {
      "cell_type": "code",
      "execution_count": null,
      "metadata": {
        "id": "gUO9N26cmNmc",
        "outputId": "d049fa5a-4e1c-4b33-c81a-3050c8d76996"
      },
      "outputs": [
        {
          "data": {
            "text/plain": [
              "2"
            ]
          },
          "execution_count": 67,
          "metadata": {},
          "output_type": "execute_result"
        }
      ],
      "source": [
        "newArray.argmin() # array içindeki en küçük sayının array içindeki indeksini döndürür."
      ]
    },
    {
      "cell_type": "markdown",
      "metadata": {
        "id": "o7aiF6bOmNmd"
      },
      "source": [
        "## np.linalg.det()"
      ]
    },
    {
      "cell_type": "code",
      "execution_count": null,
      "metadata": {
        "id": "nwfyiY9EmNmd",
        "outputId": "3a5a56a4-f6ad-4556-b849-40a6e85705d5"
      },
      "outputs": [
        {
          "data": {
            "text/plain": [
              "-2.0000000000000004"
            ]
          },
          "execution_count": 68,
          "metadata": {},
          "output_type": "execute_result"
        }
      ],
      "source": [
        "dArray = np.array([[1,2],[3,4]]) # önce 2x2'lik bir matris oluşturuyoruz.\n",
        "np.linalg.det(dArray)            # sonra bu matrisin determinantını buluyoruz."
      ]
    },
    {
      "cell_type": "code",
      "execution_count": null,
      "metadata": {
        "id": "rmhL1c-0mNmd",
        "outputId": "246aef2f-6d08-4e83-b5d4-2471fc7be426"
      },
      "outputs": [
        {
          "data": {
            "text/plain": [
              "-2.0"
            ]
          },
          "execution_count": 69,
          "metadata": {},
          "output_type": "execute_result"
        }
      ],
      "source": [
        "round(np.linalg.det(dArray))    # sonucun daha yuvarlak çıkması için round() kullanılabilir."
      ]
    },
    {
      "cell_type": "markdown",
      "metadata": {
        "id": "-pDCAzlPmNmd"
      },
      "source": [
        "# Numpy Array Indeks İşlemleri"
      ]
    },
    {
      "cell_type": "code",
      "execution_count": null,
      "metadata": {
        "id": "zqtEAtsRmNmd"
      },
      "outputs": [],
      "source": [
        "arr = np.arange(1,10)"
      ]
    },
    {
      "cell_type": "code",
      "execution_count": null,
      "metadata": {
        "id": "R44ARuGJmNmd",
        "outputId": "100473ca-efb1-498d-d2fe-fceab56c68ba"
      },
      "outputs": [
        {
          "data": {
            "text/plain": [
              "array([1, 2, 3, 4, 5, 6, 7, 8, 9])"
            ]
          },
          "execution_count": 71,
          "metadata": {},
          "output_type": "execute_result"
        }
      ],
      "source": [
        "arr"
      ]
    },
    {
      "cell_type": "code",
      "execution_count": null,
      "metadata": {
        "id": "6tWD-25hmNmd",
        "outputId": "5f43183e-d333-4b56-9fff-a6140b3130f3"
      },
      "outputs": [
        {
          "data": {
            "text/plain": [
              "4"
            ]
          },
          "execution_count": 72,
          "metadata": {},
          "output_type": "execute_result"
        }
      ],
      "source": [
        "arr[3] # indeksi 3 olan array elemanı"
      ]
    },
    {
      "cell_type": "code",
      "execution_count": null,
      "metadata": {
        "id": "oGUqr6z2mNmd",
        "outputId": "ed26f132-1279-4013-c6e8-c6bed52927cd"
      },
      "outputs": [
        {
          "data": {
            "text/plain": [
              "array([2, 3, 4, 5])"
            ]
          },
          "execution_count": 73,
          "metadata": {},
          "output_type": "execute_result"
        }
      ],
      "source": [
        "arr[1:5] # indeksi 1 olan elemandan, 5. elemana kadar gidiyor (5 dahil değil) ve array döndürüyor."
      ]
    },
    {
      "cell_type": "code",
      "execution_count": null,
      "metadata": {
        "id": "sfmt9O1nmNmd",
        "outputId": "da35b2f3-32cb-43ae-a9d1-8a703bfd6df2"
      },
      "outputs": [
        {
          "data": {
            "text/plain": [
              "array([1, 2, 3, 4])"
            ]
          },
          "execution_count": 74,
          "metadata": {},
          "output_type": "execute_result"
        }
      ],
      "source": [
        "arr[0:4] # ilk elemandan indeksi 4 olan elemana kadar gidiyor (4 dahil değil) ve array döndürüyor."
      ]
    },
    {
      "cell_type": "code",
      "execution_count": null,
      "metadata": {
        "id": "OAUGIc_ymNmd",
        "outputId": "4a5ca5f5-b107-41ef-c0b6-192fe3f302ad"
      },
      "outputs": [
        {
          "data": {
            "text/plain": [
              "array([1, 2, 3, 4])"
            ]
          },
          "execution_count": 75,
          "metadata": {},
          "output_type": "execute_result"
        }
      ],
      "source": [
        "arr[:4] # ilk elemandan indeksi 4 olan elemana kadar gidiyor (4 dahil değil) ve array döndürüyor."
      ]
    },
    {
      "cell_type": "code",
      "execution_count": null,
      "metadata": {
        "id": "IQ_DStgxmNmd",
        "outputId": "07ac5b4c-04e8-4cff-a9ea-6796417a5710"
      },
      "outputs": [
        {
          "data": {
            "text/plain": [
              "array([1, 3, 5, 7, 9])"
            ]
          },
          "execution_count": 76,
          "metadata": {},
          "output_type": "execute_result"
        }
      ],
      "source": [
        "arr[::2] # ilk elemandan son elemana kadar 2'şer 2'şer gidiyor ve array döndürüyor."
      ]
    },
    {
      "cell_type": "code",
      "execution_count": null,
      "metadata": {
        "id": "BKl9cgWbmNmd",
        "outputId": "6a5bdc2b-0f9c-47a9-cbbb-97ac77500a55"
      },
      "outputs": [
        {
          "data": {
            "text/plain": [
              "array([4, 5, 6, 7, 8, 9])"
            ]
          },
          "execution_count": 77,
          "metadata": {},
          "output_type": "execute_result"
        }
      ],
      "source": [
        "arr[3:] # 3 nolu indeksten son elemana kadar gidiyor ve array döndürüyor."
      ]
    },
    {
      "cell_type": "code",
      "execution_count": null,
      "metadata": {
        "id": "Zr_XQHMkmNmd",
        "outputId": "4fe33d90-e1ff-4235-b589-cae8c992856c"
      },
      "outputs": [
        {
          "data": {
            "text/plain": [
              "array([1, 2, 3, 4, 5, 6, 7, 8, 9])"
            ]
          },
          "execution_count": 78,
          "metadata": {},
          "output_type": "execute_result"
        }
      ],
      "source": [
        "arr"
      ]
    },
    {
      "cell_type": "code",
      "execution_count": null,
      "metadata": {
        "id": "2PnZ6jxymNmd",
        "outputId": "2d401000-ad13-4964-9ac1-7605adbbddb6"
      },
      "outputs": [
        {
          "data": {
            "text/plain": [
              "array([1, 2, 3])"
            ]
          },
          "execution_count": 79,
          "metadata": {},
          "output_type": "execute_result"
        }
      ],
      "source": [
        "arr[:3]"
      ]
    },
    {
      "cell_type": "code",
      "execution_count": null,
      "metadata": {
        "id": "-1AHn1--mNmd"
      },
      "outputs": [],
      "source": [
        "arr[:3] = 25 # ilk üç değeri 25 yapar."
      ]
    },
    {
      "cell_type": "code",
      "execution_count": null,
      "metadata": {
        "id": "EHkcH3j-mNmd",
        "outputId": "1002084c-6910-4bdb-bb88-3945212a2f37"
      },
      "outputs": [
        {
          "data": {
            "text/plain": [
              "array([25, 25, 25,  4,  5,  6,  7,  8,  9])"
            ]
          },
          "execution_count": 81,
          "metadata": {},
          "output_type": "execute_result"
        }
      ],
      "source": [
        "arr"
      ]
    },
    {
      "cell_type": "code",
      "execution_count": null,
      "metadata": {
        "id": "-d3AJme8mNmd"
      },
      "outputs": [],
      "source": [
        "arr = np.arange(1,10)"
      ]
    },
    {
      "cell_type": "code",
      "execution_count": null,
      "metadata": {
        "id": "k9TR3w3_mNme",
        "outputId": "955eb3be-af47-4dac-dc14-ffc4e842298d"
      },
      "outputs": [
        {
          "data": {
            "text/plain": [
              "array([1, 2, 3, 4, 5, 6, 7, 8, 9])"
            ]
          },
          "execution_count": 83,
          "metadata": {},
          "output_type": "execute_result"
        }
      ],
      "source": [
        "arr"
      ]
    },
    {
      "cell_type": "code",
      "execution_count": null,
      "metadata": {
        "id": "MJSGvo5emNme"
      },
      "outputs": [],
      "source": [
        "arr2 = arr # bunu yapınca arr2, arr'nin aynısı olur. arr2'de yapılan değişiklik arr'yi de etkiler."
      ]
    },
    {
      "cell_type": "code",
      "execution_count": null,
      "metadata": {
        "id": "nXSDlRFPmNme"
      },
      "outputs": [],
      "source": [
        "arr2[:3] = 100"
      ]
    },
    {
      "cell_type": "code",
      "execution_count": null,
      "metadata": {
        "id": "NnsGGxYTmNme",
        "outputId": "da781dff-d1cc-4e1d-963a-25bfe483f905"
      },
      "outputs": [
        {
          "data": {
            "text/plain": [
              "array([100, 100, 100,   4,   5,   6,   7,   8,   9])"
            ]
          },
          "execution_count": 86,
          "metadata": {},
          "output_type": "execute_result"
        }
      ],
      "source": [
        "arr2"
      ]
    },
    {
      "cell_type": "code",
      "execution_count": null,
      "metadata": {
        "id": "ss_cAnrImNme",
        "outputId": "3aa9e702-a2d8-4362-cb87-b24844688a09"
      },
      "outputs": [
        {
          "data": {
            "text/plain": [
              "array([100, 100, 100,   4,   5,   6,   7,   8,   9])"
            ]
          },
          "execution_count": 87,
          "metadata": {},
          "output_type": "execute_result"
        }
      ],
      "source": [
        "arr"
      ]
    },
    {
      "cell_type": "code",
      "execution_count": null,
      "metadata": {
        "id": "hyRPnsQNmNme"
      },
      "outputs": [],
      "source": [
        "# eğer bu şekilde birbirinin aynısı olmasını\n",
        "# ama aynı zamanda da birbirinden bağımsız olmasını istiyorsak,\n",
        "# arr.copy() komutunu kullanacağız."
      ]
    },
    {
      "cell_type": "code",
      "execution_count": null,
      "metadata": {
        "id": "_uJa58V0mNme"
      },
      "outputs": [],
      "source": [
        "arr = np.arange(1,10)"
      ]
    },
    {
      "cell_type": "code",
      "execution_count": null,
      "metadata": {
        "id": "4Y5B-O83mNme",
        "outputId": "3fed2f8d-a7a2-4bbb-9544-69d5016b994a"
      },
      "outputs": [
        {
          "data": {
            "text/plain": [
              "array([1, 2, 3, 4, 5, 6, 7, 8, 9])"
            ]
          },
          "execution_count": 90,
          "metadata": {},
          "output_type": "execute_result"
        }
      ],
      "source": [
        "arr"
      ]
    },
    {
      "cell_type": "markdown",
      "metadata": {
        "id": "mqNzwIyZmNme"
      },
      "source": [
        "## np.array().copy()"
      ]
    },
    {
      "cell_type": "code",
      "execution_count": null,
      "metadata": {
        "id": "uXAgzwHamNme"
      },
      "outputs": [],
      "source": [
        "arr2 = arr.copy()"
      ]
    },
    {
      "cell_type": "code",
      "execution_count": null,
      "metadata": {
        "id": "Jw8heC0RmNme",
        "outputId": "3e8b20e4-2eea-4565-b156-84113c68ff67"
      },
      "outputs": [
        {
          "data": {
            "text/plain": [
              "array([1, 2, 3, 4, 5, 6, 7, 8, 9])"
            ]
          },
          "execution_count": 92,
          "metadata": {},
          "output_type": "execute_result"
        }
      ],
      "source": [
        "arr2"
      ]
    },
    {
      "cell_type": "code",
      "execution_count": null,
      "metadata": {
        "id": "4KIl3wl4mNme"
      },
      "outputs": [],
      "source": [
        "arr2[:3] = 10"
      ]
    },
    {
      "cell_type": "code",
      "execution_count": null,
      "metadata": {
        "id": "jX7F4pBumNme",
        "outputId": "a4bb703e-a731-437b-97f0-0e58d64163c7"
      },
      "outputs": [
        {
          "data": {
            "text/plain": [
              "array([10, 10, 10,  4,  5,  6,  7,  8,  9])"
            ]
          },
          "execution_count": 94,
          "metadata": {},
          "output_type": "execute_result"
        }
      ],
      "source": [
        "arr2"
      ]
    },
    {
      "cell_type": "code",
      "execution_count": null,
      "metadata": {
        "id": "S9xBa3mlmNme",
        "outputId": "376d750b-c55b-4ab6-a074-0287cb684892"
      },
      "outputs": [
        {
          "data": {
            "text/plain": [
              "array([1, 2, 3, 4, 5, 6, 7, 8, 9])"
            ]
          },
          "execution_count": 95,
          "metadata": {},
          "output_type": "execute_result"
        }
      ],
      "source": [
        "arr"
      ]
    },
    {
      "cell_type": "code",
      "execution_count": null,
      "metadata": {
        "id": "HnihKhH-mNme"
      },
      "outputs": [],
      "source": [
        "# birbirini etkilemedi."
      ]
    },
    {
      "cell_type": "code",
      "execution_count": null,
      "metadata": {
        "id": "glxaKPzUmNme"
      },
      "outputs": [],
      "source": [
        "newArray = np.arange(1,21)"
      ]
    },
    {
      "cell_type": "code",
      "execution_count": null,
      "metadata": {
        "id": "oNiyEZkhmNme",
        "outputId": "0e324ef4-020e-4b69-af2c-1429f9c552ba"
      },
      "outputs": [
        {
          "data": {
            "text/plain": [
              "array([ 1,  2,  3,  4,  5,  6,  7,  8,  9, 10, 11, 12, 13, 14, 15, 16, 17,\n",
              "       18, 19, 20])"
            ]
          },
          "execution_count": 98,
          "metadata": {},
          "output_type": "execute_result"
        }
      ],
      "source": [
        "newArray"
      ]
    },
    {
      "cell_type": "code",
      "execution_count": null,
      "metadata": {
        "id": "c7FwEn3kmNme"
      },
      "outputs": [],
      "source": [
        "newArray = newArray.reshape((5,4))"
      ]
    },
    {
      "cell_type": "code",
      "execution_count": null,
      "metadata": {
        "id": "8HFyN3MJmNme",
        "outputId": "94a1219c-4d56-47b6-f3e5-ceba4373c393"
      },
      "outputs": [
        {
          "data": {
            "text/plain": [
              "array([[ 1,  2,  3,  4],\n",
              "       [ 5,  6,  7,  8],\n",
              "       [ 9, 10, 11, 12],\n",
              "       [13, 14, 15, 16],\n",
              "       [17, 18, 19, 20]])"
            ]
          },
          "execution_count": 100,
          "metadata": {},
          "output_type": "execute_result"
        }
      ],
      "source": [
        "newArray"
      ]
    },
    {
      "cell_type": "code",
      "execution_count": null,
      "metadata": {
        "id": "NpUI3FvymNme",
        "outputId": "283f8b18-7be6-421a-9805-d37cc4f09f4a"
      },
      "outputs": [
        {
          "data": {
            "text/plain": [
              "array([[ 1,  2,  3,  4],\n",
              "       [ 5,  6,  7,  8],\n",
              "       [ 9, 10, 11, 12],\n",
              "       [13, 14, 15, 16],\n",
              "       [17, 18, 19, 20]])"
            ]
          },
          "execution_count": 101,
          "metadata": {},
          "output_type": "execute_result"
        }
      ],
      "source": [
        "newArray[:,:]"
      ]
    },
    {
      "cell_type": "code",
      "execution_count": null,
      "metadata": {
        "id": "paElUFgJmNmf",
        "outputId": "704b7046-5fe3-4cf0-ba91-8dc8c0c3b859"
      },
      "outputs": [
        {
          "data": {
            "text/plain": [
              "array([[ 1,  2],\n",
              "       [ 5,  6],\n",
              "       [ 9, 10],\n",
              "       [13, 14],\n",
              "       [17, 18]])"
            ]
          },
          "execution_count": 102,
          "metadata": {},
          "output_type": "execute_result"
        }
      ],
      "source": [
        "newArray[::,:2] # tüm satırlar ve indeksi 2. ye kadar olan (2. dahil değil) sütunlar (farklı kullanımlar da var)"
      ]
    },
    {
      "cell_type": "code",
      "execution_count": null,
      "metadata": {
        "id": "HHEtnDUxmNmf",
        "outputId": "840268ec-58ee-46ec-ed01-85d72a56ac59"
      },
      "outputs": [
        {
          "data": {
            "text/plain": [
              "array([[ 1,  2],\n",
              "       [ 5,  6],\n",
              "       [ 9, 10],\n",
              "       [13, 14],\n",
              "       [17, 18]])"
            ]
          },
          "execution_count": 103,
          "metadata": {},
          "output_type": "execute_result"
        }
      ],
      "source": [
        "newArray[:,:2] # 2. kullanım"
      ]
    },
    {
      "cell_type": "code",
      "execution_count": null,
      "metadata": {
        "id": "_xzSYx-kmNmf",
        "outputId": "45816654-6992-4b76-f556-f10871cb2a78"
      },
      "outputs": [
        {
          "data": {
            "text/plain": [
              "array([[1, 2, 3, 4],\n",
              "       [5, 6, 7, 8]])"
            ]
          },
          "execution_count": 104,
          "metadata": {},
          "output_type": "execute_result"
        }
      ],
      "source": [
        "newArray[:2,::] # indeksi 2. ye kadar olan (2. dahil değil) satırlar ve tüm sütunlar (farklı kullanımlar da var)"
      ]
    },
    {
      "cell_type": "code",
      "execution_count": null,
      "metadata": {
        "id": "T4VLFsRUmNmf",
        "outputId": "2b921245-5275-4c5b-bb75-bf7989b004ba"
      },
      "outputs": [
        {
          "data": {
            "text/plain": [
              "array([[1, 2, 3, 4],\n",
              "       [5, 6, 7, 8]])"
            ]
          },
          "execution_count": 105,
          "metadata": {},
          "output_type": "execute_result"
        }
      ],
      "source": [
        "newArray[:2,:] # 2. kullanım"
      ]
    },
    {
      "cell_type": "code",
      "execution_count": null,
      "metadata": {
        "id": "4IU92ilemNmf",
        "outputId": "1befdfc0-89c0-4a2e-e8d1-51e4abeb1457"
      },
      "outputs": [
        {
          "data": {
            "text/plain": [
              "array([[1, 2, 3, 4],\n",
              "       [5, 6, 7, 8]])"
            ]
          },
          "execution_count": 106,
          "metadata": {},
          "output_type": "execute_result"
        }
      ],
      "source": [
        "newArray[:2,] # 3. kullanım"
      ]
    },
    {
      "cell_type": "code",
      "execution_count": null,
      "metadata": {
        "id": "v6KMiWOimNmf",
        "outputId": "c8a47593-66e8-48eb-e8ac-6288aff02394"
      },
      "outputs": [
        {
          "data": {
            "text/plain": [
              "12"
            ]
          },
          "execution_count": 107,
          "metadata": {},
          "output_type": "execute_result"
        }
      ],
      "source": [
        "newArray[2,3] # birinci sayı satır, ikinci sayı sütun indeksidir."
      ]
    },
    {
      "cell_type": "code",
      "execution_count": null,
      "metadata": {
        "id": "CDTa4VaKmNmf",
        "outputId": "40cfc2d5-8741-49be-b64e-f1b3895c51f6"
      },
      "outputs": [
        {
          "data": {
            "text/plain": [
              "array([[1, 2],\n",
              "       [5, 6]])"
            ]
          },
          "execution_count": 108,
          "metadata": {},
          "output_type": "execute_result"
        }
      ],
      "source": [
        "newArray[:2,:2] # birinci ifadede ilk satırdan 2 indeksli satıra kadar tüm satırları al demektir.\n",
        "                # ikinci ifade de, ilk sütundan 2 indeksli sütuna kadar tüm sütunları al demektir."
      ]
    },
    {
      "cell_type": "code",
      "execution_count": null,
      "metadata": {
        "id": "Uj6EvNapmNmf",
        "outputId": "4a71bb8e-15bb-421b-84c4-96ccf17c866e"
      },
      "outputs": [
        {
          "data": {
            "text/plain": [
              "array([[1, 2, 3, 4],\n",
              "       [5, 6, 7, 8]])"
            ]
          },
          "execution_count": 109,
          "metadata": {},
          "output_type": "execute_result"
        }
      ],
      "source": [
        "newArray[:2,:]  # birinci ifadede ilk satırdan 2 indeksli satıra kadar tüm satırları al demektir.\n",
        "                # ikinci ifade tüm sütunları al demektir."
      ]
    },
    {
      "cell_type": "code",
      "execution_count": null,
      "metadata": {
        "id": "zOoqdtERmNmf",
        "outputId": "dd7f0758-7e47-4c4c-ee50-9f40f24c1b57"
      },
      "outputs": [
        {
          "data": {
            "text/plain": [
              "array([[1, 2, 3, 4],\n",
              "       [5, 6, 7, 8]])"
            ]
          },
          "execution_count": 110,
          "metadata": {},
          "output_type": "execute_result"
        }
      ],
      "source": [
        "newArray[:2] # üstteki kodla aynı sonucu verir, daha kısa halidir."
      ]
    },
    {
      "cell_type": "markdown",
      "metadata": {
        "id": "Y7ltEaUKmNmf"
      },
      "source": [
        "## Fancy Indeks"
      ]
    },
    {
      "cell_type": "code",
      "execution_count": null,
      "metadata": {
        "id": "j5w-3eLPmNmf",
        "outputId": "86d8e8a2-a885-49de-da80-3dda2d3a575e"
      },
      "outputs": [
        {
          "data": {
            "text/plain": [
              "array([[ 1,  2,  3,  4],\n",
              "       [ 5,  6,  7,  8],\n",
              "       [ 9, 10, 11, 12],\n",
              "       [13, 14, 15, 16],\n",
              "       [17, 18, 19, 20]])"
            ]
          },
          "execution_count": 111,
          "metadata": {},
          "output_type": "execute_result"
        }
      ],
      "source": [
        "newArray"
      ]
    },
    {
      "cell_type": "code",
      "execution_count": null,
      "metadata": {
        "id": "qeM3bxGYmNmf",
        "outputId": "32d84f4b-9f9d-4c68-8394-af78be5c294f"
      },
      "outputs": [
        {
          "data": {
            "text/plain": [
              "array([[ 2,  3],\n",
              "       [ 6,  7],\n",
              "       [10, 11],\n",
              "       [14, 15],\n",
              "       [18, 19]])"
            ]
          },
          "execution_count": 112,
          "metadata": {},
          "output_type": "execute_result"
        }
      ],
      "source": [
        "newArray[:,1:3] # tüm satırlar ve 1. indeksten 3. indekse kadar (3. dahil değil) sütunlar döndürülüyor."
      ]
    },
    {
      "cell_type": "code",
      "execution_count": null,
      "metadata": {
        "id": "TQcQe3S_mNmf",
        "outputId": "ac11bb1d-ebbe-4f6b-8b4a-42c0cc5fd34e"
      },
      "outputs": [
        {
          "data": {
            "text/plain": [
              "array([[ 2,  3],\n",
              "       [ 6,  7],\n",
              "       [10, 11],\n",
              "       [14, 15],\n",
              "       [18, 19]])"
            ]
          },
          "execution_count": 113,
          "metadata": {},
          "output_type": "execute_result"
        }
      ],
      "source": [
        "# Fancy Indeks ile üstteki işlemin aynısını gerçekleştirebiliriz.\n",
        "newArray[:,[1,2]]\n",
        "\n",
        "# [1,2] ifadesinde alınacak olan sütunlar tek tek ifade edilmiş oluyor.\n",
        "# Yani indeksi 1 ve indeksi 2 olan sütunlar ayrı ayrı alınsın, denmiş oluyor.\n",
        "# (\":\" yerine \",\" kondu ve array olarak yazıldığına dikkat ediyoruz!)"
      ]
    },
    {
      "cell_type": "code",
      "execution_count": null,
      "metadata": {
        "id": "z0X7pW5kmNmf",
        "outputId": "eb206b04-593a-4edf-f712-a5b65de446a1"
      },
      "outputs": [
        {
          "data": {
            "text/plain": [
              "array([[ 1,  2,  3,  4],\n",
              "       [ 9, 10, 11, 12]])"
            ]
          },
          "execution_count": 114,
          "metadata": {},
          "output_type": "execute_result"
        }
      ],
      "source": [
        "newArray[[0,2],:] # bu işlemle 0. satırı ve 2. satırı ayrı ayrı alıp birleştirmiş olduk."
      ]
    },
    {
      "cell_type": "code",
      "execution_count": null,
      "metadata": {
        "id": "lmCc-SKCmNmf",
        "outputId": "4386b6c3-75e0-480a-b218-f2a8dcef3249"
      },
      "outputs": [
        {
          "data": {
            "text/plain": [
              "array([[ 1,  2,  3,  4],\n",
              "       [ 9, 10, 11, 12]])"
            ]
          },
          "execution_count": 115,
          "metadata": {},
          "output_type": "execute_result"
        }
      ],
      "source": [
        "newArray[[0,2]] # 2. kullanım"
      ]
    },
    {
      "cell_type": "markdown",
      "metadata": {
        "id": "S2e96VP9mNmf"
      },
      "source": [
        "# Numpy Array ile Mantıksal İşlemler"
      ]
    },
    {
      "cell_type": "code",
      "execution_count": null,
      "metadata": {
        "id": "TAmi292imNmf"
      },
      "outputs": [],
      "source": [
        "arr = np.arange(1,10)"
      ]
    },
    {
      "cell_type": "code",
      "execution_count": null,
      "metadata": {
        "id": "r6LMo6hrmNmf",
        "outputId": "5c340876-78c3-4cc6-f745-ef33fdbb7699"
      },
      "outputs": [
        {
          "data": {
            "text/plain": [
              "array([False, False, False,  True,  True,  True,  True,  True,  True])"
            ]
          },
          "execution_count": 117,
          "metadata": {},
          "output_type": "execute_result"
        }
      ],
      "source": [
        "arr > 3 # elemanın değeri 3'ten büyükse True, değilse False yazan yeni bir array döndürür."
      ]
    },
    {
      "cell_type": "code",
      "execution_count": null,
      "metadata": {
        "id": "C3CyEWG2mNmg",
        "outputId": "2b759948-36ed-45bf-c13e-c1eff13f018c"
      },
      "outputs": [
        {
          "data": {
            "text/plain": [
              "array([False, False, False,  True,  True,  True,  True,  True,  True])"
            ]
          },
          "execution_count": 118,
          "metadata": {},
          "output_type": "execute_result"
        }
      ],
      "source": [
        "tf = arr > 3\n",
        "tf"
      ]
    },
    {
      "cell_type": "code",
      "execution_count": null,
      "metadata": {
        "id": "yL6wUCvXmNmg",
        "outputId": "53af3474-93a8-4b98-b7dc-ed298ad8ea16"
      },
      "outputs": [
        {
          "data": {
            "text/plain": [
              "array([4, 5, 6, 7, 8, 9])"
            ]
          },
          "execution_count": 119,
          "metadata": {},
          "output_type": "execute_result"
        }
      ],
      "source": [
        "arr[tf] # True ve False değerlerden oluşan array'i kullanarak arr array'ini filtreleyebiliriz."
      ]
    },
    {
      "cell_type": "code",
      "execution_count": null,
      "metadata": {
        "id": "gGSPqmt4mNmg",
        "outputId": "d4a45489-b96c-4bd4-9776-c03a49368068"
      },
      "outputs": [
        {
          "data": {
            "text/plain": [
              "array([False, False, False,  True,  True,  True,  True,  True,  True])"
            ]
          },
          "execution_count": 120,
          "metadata": {},
          "output_type": "execute_result"
        }
      ],
      "source": [
        "tf"
      ]
    },
    {
      "cell_type": "code",
      "execution_count": null,
      "metadata": {
        "id": "FMh0S6iGmNmg",
        "outputId": "5d520638-997e-43c6-c7fc-f885ff167789"
      },
      "outputs": [
        {
          "data": {
            "text/plain": [
              "array([4, 5, 6, 7, 8, 9])"
            ]
          },
          "execution_count": 121,
          "metadata": {},
          "output_type": "execute_result"
        }
      ],
      "source": [
        "arr[arr > 3] # son işlemi daha kısa şekilde böyle yapabiliriz."
      ]
    },
    {
      "cell_type": "code",
      "execution_count": null,
      "metadata": {
        "id": "nYCIE4kFmNmg",
        "outputId": "89772924-33af-4f36-82f9-69968f470158"
      },
      "outputs": [
        {
          "data": {
            "text/plain": [
              "array([ True,  True,  True, False, False, False, False, False, False])"
            ]
          },
          "execution_count": 122,
          "metadata": {},
          "output_type": "execute_result"
        }
      ],
      "source": [
        "arr <= 3"
      ]
    },
    {
      "cell_type": "code",
      "execution_count": null,
      "metadata": {
        "id": "Y1MDvrp-mNmg",
        "outputId": "94dda7af-d551-47b9-f4e9-48df9367d7ef"
      },
      "outputs": [
        {
          "data": {
            "text/plain": [
              "array([ True,  True, False,  True,  True,  True,  True,  True,  True])"
            ]
          },
          "execution_count": 123,
          "metadata": {},
          "output_type": "execute_result"
        }
      ],
      "source": [
        "arr != 3"
      ]
    },
    {
      "cell_type": "code",
      "execution_count": null,
      "metadata": {
        "id": "XfGTzW54mNmg",
        "outputId": "b5f065b9-0f1a-4d5a-f3e7-63f5d4c45b82"
      },
      "outputs": [
        {
          "data": {
            "text/plain": [
              "array([False, False, False, False,  True, False, False, False, False])"
            ]
          },
          "execution_count": 124,
          "metadata": {},
          "output_type": "execute_result"
        }
      ],
      "source": [
        "arr == 5"
      ]
    },
    {
      "cell_type": "markdown",
      "metadata": {
        "id": "vofY3H3kmNmg"
      },
      "source": [
        "## np.all()"
      ]
    },
    {
      "cell_type": "code",
      "execution_count": null,
      "metadata": {
        "id": "nTbAKXX3mNmg",
        "outputId": "c0daf9ca-4620-486c-aaae-8854185c9ea6"
      },
      "outputs": [
        {
          "data": {
            "text/plain": [
              "False"
            ]
          },
          "execution_count": 125,
          "metadata": {},
          "output_type": "execute_result"
        }
      ],
      "source": [
        "np.all(arr > 3) # arr içindeki tüm elemanlar 3 değerinden büyük mü? (Cevap: Hayır)"
      ]
    },
    {
      "cell_type": "code",
      "execution_count": null,
      "metadata": {
        "id": "HKEqwFcgmNmg",
        "outputId": "ee3e69fd-c2b8-4e94-deb5-8553174f3476"
      },
      "outputs": [
        {
          "data": {
            "text/plain": [
              "True"
            ]
          },
          "execution_count": 126,
          "metadata": {},
          "output_type": "execute_result"
        }
      ],
      "source": [
        "np.all(arr > 0) # arr içindeki tüm elemanlar 0'dan büyük mü? (Cevap: Evet)"
      ]
    },
    {
      "cell_type": "markdown",
      "metadata": {
        "id": "6T6aREkjmNmg"
      },
      "source": [
        "## np.any()"
      ]
    },
    {
      "cell_type": "code",
      "execution_count": null,
      "metadata": {
        "id": "yaf81S8RmNmg",
        "outputId": "905e2250-3ffb-4b93-cf4d-161d52fd62aa"
      },
      "outputs": [
        {
          "data": {
            "text/plain": [
              "True"
            ]
          },
          "execution_count": 127,
          "metadata": {},
          "output_type": "execute_result"
        }
      ],
      "source": [
        "np.any(arr > 3) # arr içindeki herhangi bir eleman 3'ten büyük mü? (Cevap: Evet)"
      ]
    },
    {
      "cell_type": "code",
      "execution_count": null,
      "metadata": {
        "id": "tJNYmdTdmNmg",
        "outputId": "8a8bf08f-5232-48b6-f501-654c6d9180ef"
      },
      "outputs": [
        {
          "data": {
            "text/plain": [
              "False"
            ]
          },
          "execution_count": 128,
          "metadata": {},
          "output_type": "execute_result"
        }
      ],
      "source": [
        "np.any(arr < 0) # arr içindeki herhangi bir eleman negatif mi? (Cevap: Hayır)"
      ]
    },
    {
      "cell_type": "markdown",
      "metadata": {
        "id": "ccF-GuITmNmg"
      },
      "source": [
        "# Numpy Array ile Aritmetik İşlemler"
      ]
    },
    {
      "cell_type": "code",
      "execution_count": null,
      "metadata": {
        "id": "XR-doeiYmNmg"
      },
      "outputs": [],
      "source": [
        "arr1 = np.array([10,20,30,40,50,60])\n",
        "arr2 = np.array([2,3,4,5,6,7])"
      ]
    },
    {
      "cell_type": "code",
      "execution_count": null,
      "metadata": {
        "id": "48fTvxi_mNmg",
        "outputId": "af9d10c5-626e-4e65-ee49-7c04ce3ae642"
      },
      "outputs": [
        {
          "data": {
            "text/plain": [
              "array([12, 23, 34, 45, 56, 67])"
            ]
          },
          "execution_count": 130,
          "metadata": {},
          "output_type": "execute_result"
        }
      ],
      "source": [
        "arr1 + arr2 # her bir eleman, diğer array'de karşılık gelen elemanla toplanır.\n",
        "            # toplama işleminin yapılabilmesi için iki array'in de eleman sayısı aynı olmalıdır."
      ]
    },
    {
      "cell_type": "code",
      "execution_count": null,
      "metadata": {
        "id": "G9T9KYQPmNmh",
        "outputId": "2d0c0fca-23ef-445e-bceb-b3f4930168be"
      },
      "outputs": [
        {
          "data": {
            "text/plain": [
              "array([ 8, 17, 26, 35, 44, 53])"
            ]
          },
          "execution_count": 131,
          "metadata": {},
          "output_type": "execute_result"
        }
      ],
      "source": [
        "arr1 - arr2 # aynı şekilde diğer işlemleri de yapabiliriz"
      ]
    },
    {
      "cell_type": "code",
      "execution_count": null,
      "metadata": {
        "id": "LEaqSRermNmh",
        "outputId": "2a1c09f6-583e-43e1-9b39-9daec9cb7210"
      },
      "outputs": [
        {
          "data": {
            "text/plain": [
              "array([ 20,  60, 120, 200, 300, 420])"
            ]
          },
          "execution_count": 132,
          "metadata": {},
          "output_type": "execute_result"
        }
      ],
      "source": [
        "arr1 * arr2"
      ]
    },
    {
      "cell_type": "code",
      "execution_count": null,
      "metadata": {
        "id": "RvFs4qh8mNmh",
        "outputId": "2006e6e5-e4f7-4116-f0aa-bcfcda68795b"
      },
      "outputs": [
        {
          "data": {
            "text/plain": [
              "array([19, 29, 39, 49, 59, 69])"
            ]
          },
          "execution_count": 133,
          "metadata": {},
          "output_type": "execute_result"
        }
      ],
      "source": [
        "arr1 + 9 # arr1'deki her bir eleman 9 ile toplanır."
      ]
    },
    {
      "cell_type": "code",
      "execution_count": null,
      "metadata": {
        "id": "XtGabEoTmNmh",
        "outputId": "00c710f4-06e6-469f-f2d3-31da4e40fd14"
      },
      "outputs": [
        {
          "data": {
            "text/plain": [
              "array([1, 2, 3, 4, 5, 6])"
            ]
          },
          "execution_count": 134,
          "metadata": {},
          "output_type": "execute_result"
        }
      ],
      "source": [
        "arr2 - 1 # arr2'deki her elemandan 1 çıkarılır."
      ]
    },
    {
      "cell_type": "code",
      "execution_count": null,
      "metadata": {
        "id": "toZIdKKEmNmh",
        "outputId": "88133861-e4cd-47bb-d696-2b24571d26ab"
      },
      "outputs": [
        {
          "data": {
            "text/plain": [
              "array([10, 20, 30, 40, 50, 60])"
            ]
          },
          "execution_count": 135,
          "metadata": {},
          "output_type": "execute_result"
        }
      ],
      "source": [
        "arr1 # arr1 yeniden setlemediğimiz için son oluşturulduğundan beri aslında hiç değişmedi."
      ]
    },
    {
      "cell_type": "markdown",
      "metadata": {
        "id": "S36YXttRmNmh"
      },
      "source": [
        "## np.sqrt()"
      ]
    },
    {
      "cell_type": "code",
      "execution_count": null,
      "metadata": {
        "id": "J0q3fv7YmNmh",
        "outputId": "9f677216-41aa-45ab-a170-8d1302765399"
      },
      "outputs": [
        {
          "data": {
            "text/plain": [
              "array([3.16227766, 4.47213595, 5.47722558, 6.32455532, 7.07106781,\n",
              "       7.74596669])"
            ]
          },
          "execution_count": 136,
          "metadata": {},
          "output_type": "execute_result"
        }
      ],
      "source": [
        "np.sqrt(arr1) # her bir elemanın karekökünü alıp yeni bir array döndürür."
      ]
    },
    {
      "cell_type": "markdown",
      "metadata": {
        "id": "O8vDRgTvmNmh"
      },
      "source": [
        "## np.add()"
      ]
    },
    {
      "cell_type": "code",
      "execution_count": null,
      "metadata": {
        "id": "LRRsGiqqmNmh",
        "outputId": "40b5747b-30fd-4fad-9382-1e0b27a6865c"
      },
      "outputs": [
        {
          "data": {
            "text/plain": [
              "array([5, 6, 7, 8])"
            ]
          },
          "execution_count": 137,
          "metadata": {},
          "output_type": "execute_result"
        }
      ],
      "source": [
        "a = np.array([2,3,4,5])\n",
        "np.add(a,3) # a içindeki her bir eleman 3 ile toplandı."
      ]
    },
    {
      "cell_type": "markdown",
      "metadata": {
        "id": "hdTYXfK5mNmh"
      },
      "source": [
        "## np.subtract()"
      ]
    },
    {
      "cell_type": "code",
      "execution_count": null,
      "metadata": {
        "id": "A2gzoCZ9mNmh",
        "outputId": "dcbeb63a-9ad5-4a6a-aec9-e593f4ba0189"
      },
      "outputs": [
        {
          "data": {
            "text/plain": [
              "array([-1,  0,  1,  2])"
            ]
          },
          "execution_count": 138,
          "metadata": {},
          "output_type": "execute_result"
        }
      ],
      "source": [
        "a = np.array([2,3,4,5])\n",
        "np.subtract(a,3) # a içindeki her bir elemandan 3 çıkarıldı."
      ]
    },
    {
      "cell_type": "markdown",
      "metadata": {
        "id": "k1jNBGBLmNmh"
      },
      "source": [
        "## np.multiply()"
      ]
    },
    {
      "cell_type": "code",
      "execution_count": null,
      "metadata": {
        "id": "peUZfUGemNmh",
        "outputId": "45ed8131-4c86-4b57-f324-5558cfb4ebae"
      },
      "outputs": [
        {
          "data": {
            "text/plain": [
              "array([ 6,  9, 12, 15])"
            ]
          },
          "execution_count": 139,
          "metadata": {},
          "output_type": "execute_result"
        }
      ],
      "source": [
        "a = np.array([2,3,4,5])\n",
        "np.multiply(a,3) # a içindeki her bir eleman 3 ile çarpıldı."
      ]
    },
    {
      "cell_type": "markdown",
      "metadata": {
        "id": "xvGDj2TnmNmh"
      },
      "source": [
        "## np.divide()"
      ]
    },
    {
      "cell_type": "code",
      "execution_count": null,
      "metadata": {
        "id": "E_Jsb4e2mNmh",
        "outputId": "5e3d454d-bbd2-433c-d530-ce168934ca8b"
      },
      "outputs": [
        {
          "data": {
            "text/plain": [
              "array([0.66666667, 1.        , 1.33333333, 1.66666667])"
            ]
          },
          "execution_count": 140,
          "metadata": {},
          "output_type": "execute_result"
        }
      ],
      "source": [
        "a = np.array([2,3,4,5])\n",
        "np.divide(a,3) # a içindeki her bir eleman 3'e bölündü."
      ]
    },
    {
      "cell_type": "markdown",
      "metadata": {
        "id": "36j8TK0MmNmh"
      },
      "source": [
        "## np.power()"
      ]
    },
    {
      "cell_type": "code",
      "execution_count": null,
      "metadata": {
        "id": "yj_JaSb8mNmh",
        "outputId": "9881aed8-f7b8-4a64-d3d4-b6113b8b19e4"
      },
      "outputs": [
        {
          "data": {
            "text/plain": [
              "array([  8,  27,  64, 125], dtype=int32)"
            ]
          },
          "execution_count": 141,
          "metadata": {},
          "output_type": "execute_result"
        }
      ],
      "source": [
        "a = np.array([2,3,4,5])\n",
        "np.power(a,3) # a içindeki her bir elemanın 3. kuvveti alındı."
      ]
    },
    {
      "cell_type": "markdown",
      "metadata": {
        "id": "7XvEgcVYmNmh"
      },
      "source": [
        "## np.add.reduce()"
      ]
    },
    {
      "cell_type": "code",
      "execution_count": null,
      "metadata": {
        "id": "qceYPOmJmNmh",
        "outputId": "04623df9-ab8a-4c9f-84ee-1b93eb52c69a"
      },
      "outputs": [
        {
          "data": {
            "text/plain": [
              "14"
            ]
          },
          "execution_count": 142,
          "metadata": {},
          "output_type": "execute_result"
        }
      ],
      "source": [
        "a = np.array([2,3,4,5])\n",
        "np.add.reduce(a) # a içindeki tüm elemanların toplamını verir."
      ]
    },
    {
      "cell_type": "markdown",
      "metadata": {
        "id": "ayDIkMrEmNmi"
      },
      "source": [
        "## np.add.accumulate()"
      ]
    },
    {
      "cell_type": "code",
      "execution_count": null,
      "metadata": {
        "id": "43Y-Zf5MmNmi",
        "outputId": "3d4aab5b-55f4-4653-942b-d1f0d913ee3d"
      },
      "outputs": [
        {
          "data": {
            "text/plain": [
              "array([ 2,  5,  9, 14], dtype=int32)"
            ]
          },
          "execution_count": 143,
          "metadata": {},
          "output_type": "execute_result"
        }
      ],
      "source": [
        "# üstteki np.add.reduce() işleminin her safhasını gösteren yeni bir array oluşturur.\n",
        "np.add.accumulate(a)"
      ]
    },
    {
      "cell_type": "markdown",
      "metadata": {
        "id": "D0LYhgfYmNmi"
      },
      "source": [
        "# Numpy Array'leri Birleştirmek"
      ]
    },
    {
      "cell_type": "markdown",
      "metadata": {
        "id": "zK2DTVOdmNmi"
      },
      "source": [
        "## np.array().concatenate()"
      ]
    },
    {
      "cell_type": "code",
      "execution_count": null,
      "metadata": {
        "id": "hBfvf-g9mNmi",
        "outputId": "5d5a1dae-be7c-4113-b073-918e87e318d7"
      },
      "outputs": [
        {
          "data": {
            "text/plain": [
              "array([1, 2, 3, 3, 4, 5, 5, 6, 7])"
            ]
          },
          "execution_count": 144,
          "metadata": {},
          "output_type": "execute_result"
        }
      ],
      "source": [
        "a = np.array([1,2,3])\n",
        "b = np.array([3,4,5])\n",
        "c = np.array([5,6,7])\n",
        "np.concatenate([a,b,c]) # a,b ve c arraylerini birleştirir."
      ]
    },
    {
      "cell_type": "code",
      "execution_count": null,
      "metadata": {
        "id": "Mww2YRJSmNmi",
        "outputId": "39264156-236d-462a-9130-f3b3384c692e"
      },
      "outputs": [
        {
          "data": {
            "text/plain": [
              "array([[1, 2, 3],\n",
              "       [4, 5, 6],\n",
              "       [1, 1, 1],\n",
              "       [2, 2, 2]])"
            ]
          },
          "execution_count": 145,
          "metadata": {},
          "output_type": "execute_result"
        }
      ],
      "source": [
        "a2 = np.array([[1,2,3], [4,5,6]])\n",
        "b2 = np.array([[1,1,1], [2,2,2]])\n",
        "np.concatenate([a2,b2]) # a2 ve b2 iki boyutlu array'lerini birleştirir."
      ]
    },
    {
      "cell_type": "code",
      "execution_count": null,
      "metadata": {
        "id": "lOnF2BubmNmi",
        "outputId": "039317ef-d634-4637-c715-a19051f397cb"
      },
      "outputs": [
        {
          "data": {
            "text/plain": [
              "array([[1, 2, 3, 1, 1, 1],\n",
              "       [4, 5, 6, 2, 2, 2]])"
            ]
          },
          "execution_count": 146,
          "metadata": {},
          "output_type": "execute_result"
        }
      ],
      "source": [
        "np.concatenate([a2,b2], axis=1) # axis birleştirmede baz alınacak ekseni ifade eder. normalde 0'dır."
      ]
    },
    {
      "cell_type": "markdown",
      "metadata": {
        "id": "n2AYK4AWmNmi"
      },
      "source": [
        "## np.array().vstack()"
      ]
    },
    {
      "cell_type": "code",
      "execution_count": null,
      "metadata": {
        "id": "36HpDcLamNmi",
        "outputId": "6ba79346-8144-4dad-ca7a-e33a056cb6db"
      },
      "outputs": [
        {
          "data": {
            "text/plain": [
              "array([[1, 2, 3],\n",
              "       [3, 4, 5],\n",
              "       [5, 6, 7]])"
            ]
          },
          "execution_count": 147,
          "metadata": {},
          "output_type": "execute_result"
        }
      ],
      "source": [
        "a = np.array([1,2,3])\n",
        "b = np.array([[3,4,5],\n",
        "              [5,6,7]])\n",
        "\n",
        "np.vstack([a,b]) # sütun sayısı aynı, satır sayısı farklı olan\n",
        "# array'leri DİKEY (vertical) olarak birleştirir.\n",
        "\n",
        "# SÜTUN SAYISI AYNI OLMAZSA DİKEY OLARAK BİRLEŞTİREMEYİZ!"
      ]
    },
    {
      "cell_type": "markdown",
      "metadata": {
        "id": "uNcsQsc_mNmi"
      },
      "source": [
        "## np.array().hstack()"
      ]
    },
    {
      "cell_type": "code",
      "execution_count": null,
      "metadata": {
        "id": "urkIlgihmNmi",
        "outputId": "39c434d3-a9ec-48c1-ebc9-292bbeaba8f1"
      },
      "outputs": [
        {
          "ename": "ValueError",
          "evalue": "all the input arrays must have same number of dimensions",
          "output_type": "error",
          "traceback": [
            "\u001b[1;31m---------------------------------------------------------------------------\u001b[0m",
            "\u001b[1;31mValueError\u001b[0m                                Traceback (most recent call last)",
            "\u001b[1;32m<ipython-input-148-2b75be2fee4e>\u001b[0m in \u001b[0;36m<module>\u001b[1;34m\u001b[0m\n\u001b[0;32m      3\u001b[0m               [5,6,7]]) \n\u001b[0;32m      4\u001b[0m \u001b[1;33m\u001b[0m\u001b[0m\n\u001b[1;32m----> 5\u001b[1;33m \u001b[0mnp\u001b[0m\u001b[1;33m.\u001b[0m\u001b[0mhstack\u001b[0m\u001b[1;33m(\u001b[0m\u001b[1;33m[\u001b[0m\u001b[0ma\u001b[0m\u001b[1;33m,\u001b[0m\u001b[0mb\u001b[0m\u001b[1;33m]\u001b[0m\u001b[1;33m)\u001b[0m \u001b[1;31m# satır sayısı aynı sütun sayısı farklı olan\u001b[0m\u001b[1;33m\u001b[0m\u001b[1;33m\u001b[0m\u001b[0m\n\u001b[0m\u001b[0;32m      6\u001b[0m \u001b[1;31m# array'leri YATAY (horizontal) olarak birleştirir.\u001b[0m\u001b[1;33m\u001b[0m\u001b[1;33m\u001b[0m\u001b[1;33m\u001b[0m\u001b[0m\n\u001b[0;32m      7\u001b[0m \u001b[1;33m\u001b[0m\u001b[0m\n",
            "\u001b[1;32mC:\\Anaconda3\\lib\\site-packages\\numpy\\core\\shape_base.py\u001b[0m in \u001b[0;36mhstack\u001b[1;34m(tup)\u001b[0m\n\u001b[0;32m    336\u001b[0m     \u001b[1;31m# As a special case, dimension 0 of 1-dimensional arrays is \"horizontal\"\u001b[0m\u001b[1;33m\u001b[0m\u001b[1;33m\u001b[0m\u001b[1;33m\u001b[0m\u001b[0m\n\u001b[0;32m    337\u001b[0m     \u001b[1;32mif\u001b[0m \u001b[0marrs\u001b[0m \u001b[1;32mand\u001b[0m \u001b[0marrs\u001b[0m\u001b[1;33m[\u001b[0m\u001b[1;36m0\u001b[0m\u001b[1;33m]\u001b[0m\u001b[1;33m.\u001b[0m\u001b[0mndim\u001b[0m \u001b[1;33m==\u001b[0m \u001b[1;36m1\u001b[0m\u001b[1;33m:\u001b[0m\u001b[1;33m\u001b[0m\u001b[1;33m\u001b[0m\u001b[0m\n\u001b[1;32m--> 338\u001b[1;33m         \u001b[1;32mreturn\u001b[0m \u001b[0m_nx\u001b[0m\u001b[1;33m.\u001b[0m\u001b[0mconcatenate\u001b[0m\u001b[1;33m(\u001b[0m\u001b[0marrs\u001b[0m\u001b[1;33m,\u001b[0m \u001b[1;36m0\u001b[0m\u001b[1;33m)\u001b[0m\u001b[1;33m\u001b[0m\u001b[1;33m\u001b[0m\u001b[0m\n\u001b[0m\u001b[0;32m    339\u001b[0m     \u001b[1;32melse\u001b[0m\u001b[1;33m:\u001b[0m\u001b[1;33m\u001b[0m\u001b[1;33m\u001b[0m\u001b[0m\n\u001b[0;32m    340\u001b[0m         \u001b[1;32mreturn\u001b[0m \u001b[0m_nx\u001b[0m\u001b[1;33m.\u001b[0m\u001b[0mconcatenate\u001b[0m\u001b[1;33m(\u001b[0m\u001b[0marrs\u001b[0m\u001b[1;33m,\u001b[0m \u001b[1;36m1\u001b[0m\u001b[1;33m)\u001b[0m\u001b[1;33m\u001b[0m\u001b[1;33m\u001b[0m\u001b[0m\n",
            "\u001b[1;31mValueError\u001b[0m: all the input arrays must have same number of dimensions"
          ]
        }
      ],
      "source": [
        "a = np.array([1,2,3])\n",
        "b = np.array([[3,4,5],\n",
        "              [5,6,7]])\n",
        "\n",
        "np.hstack([a,b]) # satır sayısı aynı sütun sayısı farklı olan\n",
        "# array'leri YATAY (horizontal) olarak birleştirir.\n",
        "\n",
        "# Aynı örneği kullanırsak, burada hata meydana gelir.\n",
        "# Çünkü satır sayısı aynı değil!"
      ]
    },
    {
      "cell_type": "code",
      "execution_count": null,
      "metadata": {
        "id": "TcrC_2rWmNmi",
        "outputId": "0534b675-01d7-4bdf-e0eb-fb89fd07850c"
      },
      "outputs": [
        {
          "data": {
            "text/plain": [
              "array([[1, 2, 3, 4, 5, 6, 7],\n",
              "       [0, 0, 0, 1, 1, 1, 1]])"
            ]
          },
          "execution_count": 149,
          "metadata": {},
          "output_type": "execute_result"
        }
      ],
      "source": [
        "a = np.array([[1,2,3],\n",
        "              [0,0,0]])\n",
        "b = np.array([[4,5,6,7],\n",
        "              [1,1,1,1]])\n",
        "\n",
        "np.hstack([a,b]) # satır sayısı aynı sütun sayısı farklı olan\n",
        "# array'leri YATAY (horizontal) olarak birleştirir.\n",
        "\n",
        "# SATIR SAYISI AYNI OLMAZSA YATAY OLARAK BİRLEŞTİREMEYİZ!"
      ]
    },
    {
      "cell_type": "markdown",
      "metadata": {
        "id": "5Qij4y60mNmi"
      },
      "source": [
        "## Numpy Array'leri Parçalamak"
      ]
    },
    {
      "cell_type": "code",
      "execution_count": null,
      "metadata": {
        "id": "MzNFO3-8mNmi",
        "outputId": "448de2ab-4bdf-44bf-9295-fcefe4c4b8e8"
      },
      "outputs": [
        {
          "data": {
            "text/plain": [
              "array([1, 2, 3, 4, 5, 6, 7, 8, 9, 0])"
            ]
          },
          "execution_count": 150,
          "metadata": {},
          "output_type": "execute_result"
        }
      ],
      "source": [
        "a = np.array([1,2,3,4,5,6,7,8,9,0])\n",
        "a"
      ]
    },
    {
      "cell_type": "markdown",
      "metadata": {
        "id": "BQNvIqqBmNmi"
      },
      "source": [
        "## np.split()"
      ]
    },
    {
      "cell_type": "code",
      "execution_count": null,
      "metadata": {
        "id": "w7qNkhuDmNmi",
        "outputId": "e2ff3278-0331-4f69-abab-adc3ccde97cf"
      },
      "outputs": [
        {
          "data": {
            "text/plain": [
              "[array([1, 2, 3]), array([4, 5]), array([6, 7, 8, 9, 0])]"
            ]
          },
          "execution_count": 151,
          "metadata": {},
          "output_type": "execute_result"
        }
      ],
      "source": [
        "np.split(a, (3,5))\n",
        "\n",
        "# 0'dan 3. indekse kadar bir parça,\n",
        "# 3. indeksten 5. indekse kadar bir parça,\n",
        "# ve geriye ne kalıyorsa o da bir parça olacak şekilde parçalama işlemi yapar."
      ]
    },
    {
      "cell_type": "code",
      "execution_count": null,
      "metadata": {
        "id": "8euFqs2wmNmi"
      },
      "outputs": [],
      "source": [
        "# Yukarıda oluşan 3 array'i direkt olarak değişkenlere tanımlayabiliriz.\n",
        "\n",
        "x,y,z = np.split(a, (3,5))"
      ]
    },
    {
      "cell_type": "code",
      "execution_count": null,
      "metadata": {
        "id": "R8BIPuslmNmj",
        "outputId": "90ce8fa8-fbe1-4c85-89cf-f20f147589d3"
      },
      "outputs": [
        {
          "data": {
            "text/plain": [
              "array([1, 2, 3])"
            ]
          },
          "execution_count": 153,
          "metadata": {},
          "output_type": "execute_result"
        }
      ],
      "source": [
        "x"
      ]
    },
    {
      "cell_type": "code",
      "execution_count": null,
      "metadata": {
        "id": "9bewAiW4mNmj",
        "outputId": "55821484-b853-46e8-be1c-cce06225c39f"
      },
      "outputs": [
        {
          "data": {
            "text/plain": [
              "array([4, 5])"
            ]
          },
          "execution_count": 154,
          "metadata": {},
          "output_type": "execute_result"
        }
      ],
      "source": [
        "y"
      ]
    },
    {
      "cell_type": "code",
      "execution_count": null,
      "metadata": {
        "id": "CozJzKgNmNmj",
        "outputId": "65ca5e15-f2c9-4a61-f1d3-7fa16ff7a02e"
      },
      "outputs": [
        {
          "data": {
            "text/plain": [
              "array([6, 7, 8, 9, 0])"
            ]
          },
          "execution_count": 155,
          "metadata": {},
          "output_type": "execute_result"
        }
      ],
      "source": [
        "z"
      ]
    },
    {
      "cell_type": "markdown",
      "metadata": {
        "id": "GonaMeYCmNmj"
      },
      "source": [
        "## np.vsplit()"
      ]
    },
    {
      "cell_type": "code",
      "execution_count": null,
      "metadata": {
        "id": "NL0B27gcmNmj",
        "outputId": "f53e09f0-3096-40a8-ded7-bc7f2ced8517"
      },
      "outputs": [
        {
          "data": {
            "text/plain": [
              "array([[ 0,  1,  2,  3],\n",
              "       [ 5,  6,  7,  8],\n",
              "       [ 9, 10, 11, 12],\n",
              "       [13, 14, 15, 16]])"
            ]
          },
          "execution_count": 156,
          "metadata": {},
          "output_type": "execute_result"
        }
      ],
      "source": [
        "z = np.array([[0,1,2,3],\n",
        "              [5,6,7,8],\n",
        "              [9,10,11,12],\n",
        "              [13,14,15,16]]) # 4x4'lük bir matris olsun.\n",
        "z"
      ]
    },
    {
      "cell_type": "code",
      "execution_count": null,
      "metadata": {
        "id": "eXZxWZqcmNmj",
        "outputId": "bf57149a-c35d-41c8-cb01-83aef1f058fa"
      },
      "outputs": [
        {
          "data": {
            "text/plain": [
              "[array([[0, 1, 2, 3],\n",
              "        [5, 6, 7, 8]]), array([[ 9, 10, 11, 12],\n",
              "        [13, 14, 15, 16]])]"
            ]
          },
          "execution_count": 157,
          "metadata": {},
          "output_type": "execute_result"
        }
      ],
      "source": [
        "np.vsplit(z, [2])\n",
        "# dikey olarak 2. indekse kadar gidip onu bir parça yapıyor.\n",
        "# geriye kalanlar da diğer parça oluyor."
      ]
    },
    {
      "cell_type": "code",
      "execution_count": null,
      "metadata": {
        "id": "Vb4JieCFmNmj",
        "outputId": "6a314507-49ed-4b48-a8e8-020f368a01e0"
      },
      "outputs": [
        {
          "data": {
            "text/plain": [
              "[array([[ 0,  1,  2,  3],\n",
              "        [ 5,  6,  7,  8],\n",
              "        [ 9, 10, 11, 12]]), array([[13, 14, 15, 16]])]"
            ]
          },
          "execution_count": 158,
          "metadata": {},
          "output_type": "execute_result"
        }
      ],
      "source": [
        "np.vsplit(z, [3])"
      ]
    },
    {
      "cell_type": "code",
      "execution_count": null,
      "metadata": {
        "id": "Yb53-PTBmNmj",
        "outputId": "084580f6-11ba-4b04-a34f-bc9531f5b53f"
      },
      "outputs": [
        {
          "data": {
            "text/plain": [
              "array([[ 0,  1,  2,  3],\n",
              "       [ 5,  6,  7,  8],\n",
              "       [ 9, 10, 11, 12],\n",
              "       [13, 14, 15, 16]])"
            ]
          },
          "execution_count": 159,
          "metadata": {},
          "output_type": "execute_result"
        }
      ],
      "source": [
        "z"
      ]
    },
    {
      "cell_type": "code",
      "execution_count": null,
      "metadata": {
        "id": "QtHOczigmNmj"
      },
      "outputs": [],
      "source": [
        "bir, iki = np.vsplit(z, [2])"
      ]
    },
    {
      "cell_type": "code",
      "execution_count": null,
      "metadata": {
        "id": "aOzqr8zlmNmj",
        "outputId": "a4af22e6-dc4b-494e-8e4d-6e5ed7fa8847"
      },
      "outputs": [
        {
          "data": {
            "text/plain": [
              "array([[0, 1, 2, 3],\n",
              "       [5, 6, 7, 8]])"
            ]
          },
          "execution_count": 161,
          "metadata": {},
          "output_type": "execute_result"
        }
      ],
      "source": [
        "bir"
      ]
    },
    {
      "cell_type": "code",
      "execution_count": null,
      "metadata": {
        "id": "MPPnMqPDmNmj",
        "outputId": "b31d23af-64ca-4a39-c4b9-d4156e62b3f5"
      },
      "outputs": [
        {
          "data": {
            "text/plain": [
              "array([[ 9, 10, 11, 12],\n",
              "       [13, 14, 15, 16]])"
            ]
          },
          "execution_count": 162,
          "metadata": {},
          "output_type": "execute_result"
        }
      ],
      "source": [
        "iki"
      ]
    },
    {
      "cell_type": "markdown",
      "metadata": {
        "id": "fHA_ZAeGmNmj"
      },
      "source": [
        "## np.hsplit()"
      ]
    },
    {
      "cell_type": "code",
      "execution_count": null,
      "metadata": {
        "id": "qO5AefDTmNmj",
        "outputId": "2d119165-a1e8-485d-fe56-d761ce0f0113"
      },
      "outputs": [
        {
          "data": {
            "text/plain": [
              "array([[ 0,  1,  2,  3],\n",
              "       [ 5,  6,  7,  8],\n",
              "       [ 9, 10, 11, 12],\n",
              "       [13, 14, 15, 16]])"
            ]
          },
          "execution_count": 163,
          "metadata": {},
          "output_type": "execute_result"
        }
      ],
      "source": [
        "z"
      ]
    },
    {
      "cell_type": "code",
      "execution_count": null,
      "metadata": {
        "id": "TZx1AmYimNmj",
        "outputId": "1be06fd5-4268-4810-bd10-e8a404b396a7"
      },
      "outputs": [
        {
          "data": {
            "text/plain": [
              "[array([[ 0,  1],\n",
              "        [ 5,  6],\n",
              "        [ 9, 10],\n",
              "        [13, 14]]), array([[ 2,  3],\n",
              "        [ 7,  8],\n",
              "        [11, 12],\n",
              "        [15, 16]])]"
            ]
          },
          "execution_count": 164,
          "metadata": {},
          "output_type": "execute_result"
        }
      ],
      "source": [
        "np.hsplit(z, [2])\n",
        "# yatay olarak 2. indekse kadar gidip onu bir parça yapıyor.\n",
        "# geriye kalanlar da diğer parça oluyor."
      ]
    },
    {
      "cell_type": "code",
      "execution_count": null,
      "metadata": {
        "id": "zSSXy8HRmNmj"
      },
      "outputs": [],
      "source": [
        "üç, dört = np.hsplit(z, [2])"
      ]
    },
    {
      "cell_type": "code",
      "execution_count": null,
      "metadata": {
        "id": "Men2f6BbmNmj",
        "outputId": "6afba23c-d075-48c6-a765-047c8424179f"
      },
      "outputs": [
        {
          "data": {
            "text/plain": [
              "array([[ 0,  1],\n",
              "       [ 5,  6],\n",
              "       [ 9, 10],\n",
              "       [13, 14]])"
            ]
          },
          "execution_count": 166,
          "metadata": {},
          "output_type": "execute_result"
        }
      ],
      "source": [
        "üç"
      ]
    },
    {
      "cell_type": "code",
      "execution_count": null,
      "metadata": {
        "id": "IS8wcUpzmNmj",
        "outputId": "4df9e1d5-ffad-403c-e0e3-5decd05e62d1"
      },
      "outputs": [
        {
          "data": {
            "text/plain": [
              "array([[ 2,  3],\n",
              "       [ 7,  8],\n",
              "       [11, 12],\n",
              "       [15, 16]])"
            ]
          },
          "execution_count": 167,
          "metadata": {},
          "output_type": "execute_result"
        }
      ],
      "source": [
        "dört"
      ]
    }
  ],
  "metadata": {
    "kernelspec": {
      "display_name": "Python 3",
      "language": "python",
      "name": "python3"
    },
    "language_info": {
      "codemirror_mode": {
        "name": "ipython",
        "version": 3
      },
      "file_extension": ".py",
      "mimetype": "text/x-python",
      "name": "python",
      "nbconvert_exporter": "python",
      "pygments_lexer": "ipython3",
      "version": "3.8.3"
    },
    "pycharm": {
      "stem_cell": {
        "cell_type": "raw",
        "metadata": {
          "collapsed": false
        },
        "source": []
      }
    },
    "colab": {
      "provenance": [],
      "include_colab_link": true
    }
  },
  "nbformat": 4,
  "nbformat_minor": 0
}